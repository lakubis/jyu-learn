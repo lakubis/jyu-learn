{
 "cells": [
  {
   "cell_type": "code",
   "execution_count": 3,
   "metadata": {},
   "outputs": [
    {
     "name": "stdout",
     "output_type": "stream",
     "text": [
      "V_A = 13.62 V and V_B = 8.50 V\n"
     ]
    }
   ],
   "source": [
    "import numpy as np\n",
    "\n",
    "#values\n",
    "R1 = 470\n",
    "R2 = 270\n",
    "R3 = 410\n",
    "R4 = 277.9\n",
    "Vs = 17\n",
    "\n",
    "#initializing matrices\n",
    "A = np.zeros([2,2])\n",
    "B = np.zeros([2,1])\n",
    "\n",
    "# Defining matrix elements\n",
    "# Note that in python index 0 means the first element in the matrix (or a list)\n",
    "A[0,0] = 1/R3\n",
    "A[0,1] = (-1/R1-1/R3-1/R4)\n",
    "B[0] = -Vs/R1\n",
    "\n",
    "A[1,0] = -1/R2-1/R3\n",
    "A[1,1] = 1/R3\n",
    "B[1] = -Vs/R2\n",
    "\n",
    "# Solving the linear equations\n",
    "V = np.linalg.solve(A,B)\n",
    "\n",
    "#printing the results\n",
    "print('V_A = {:.2f} V and V_B = {:.2f} V'.format(V[0][0], V[1][0]))\n"
   ]
  },
  {
   "cell_type": "code",
   "execution_count": null,
   "metadata": {},
   "outputs": [],
   "source": []
  }
 ],
 "metadata": {
  "kernelspec": {
   "display_name": "Python 3",
   "language": "python",
   "name": "python3"
  },
  "language_info": {
   "codemirror_mode": {
    "name": "ipython",
    "version": 3
   },
   "file_extension": ".py",
   "mimetype": "text/x-python",
   "name": "python",
   "nbconvert_exporter": "python",
   "pygments_lexer": "ipython3",
   "version": "3.10.13"
  },
  "orig_nbformat": 4
 },
 "nbformat": 4,
 "nbformat_minor": 2
}
