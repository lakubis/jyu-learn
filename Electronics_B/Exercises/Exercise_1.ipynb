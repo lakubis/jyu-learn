{
 "cells": [
  {
   "cell_type": "code",
   "execution_count": 4,
   "metadata": {},
   "outputs": [
    {
     "name": "stdout",
     "output_type": "stream",
     "text": [
      "VA = 3.594 V, VB = 2.812 V\n",
      "VAB = 0.783 V\n"
     ]
    }
   ],
   "source": [
    "import numpy as np\n",
    "from scipy.optimize import fsolve\n",
    "\n",
    "T = 300\n",
    "k = 1.38064852e-23\n",
    "q = 1.60217662e-19\n",
    "Vt = k*T/q\n",
    "\n",
    "R1 = 10\n",
    "R2 = 100\n",
    "R3 = 20\n",
    "\n",
    "Is = 1e-14 # reverse saturation current for the diode\n",
    "n = 1 # ideality factor\n",
    "\n",
    "Id = lambda V: Is*(np.exp(V/(n*Vt))-1) # diode equation\n",
    "\n",
    "V1 = 5 #voltage source\n",
    "\n",
    "def func(V):\n",
    "      VA = V[0]\n",
    "      VB = V[1]\n",
    "\n",
    "      F = np.empty((2))\n",
    "\n",
    "      F[0] = (V1-VA)/R1 - Id(VA-VB) # We remove the current going through R2\n",
    "      F[1] = Id(VA-VB) - VB/R3 # For both equations\n",
    "      return F\n",
    "\n",
    "#initial guess\n",
    "V0 = [V1, 0]\n",
    "\n",
    "#solve the voltages\n",
    "V = fsolve(func, V0)\n",
    "\n",
    "#printing results\n",
    "print('VA = {:.3f} V, VB = {:.3f} V'.format(V[0], V[1]))\n",
    "print(f\"VAB = {(V[0] - V[1]):.3f} V\")\n",
    "print('When we reduce R2, we reduce VAB. This is because more current are flowing through R2, hence reducing the forward voltage needed to pass the current.')\n",
    "\n",
    "\n"
   ]
  },
  {
   "cell_type": "code",
   "execution_count": 11,
   "metadata": {},
   "outputs": [
    {
     "name": "stdout",
     "output_type": "stream",
     "text": [
      "VA = 3.529, VB = 2.941\n",
      "VAB = 0.588 V\n"
     ]
    }
   ],
   "source": [
    "import numpy as np\n",
    "from scipy.optimize import fsolve\n",
    "\n",
    "T = 300\n",
    "k = 1.38064852e-23\n",
    "q = 1.60217662e-19\n",
    "Vt = k*T/q\n",
    "\n",
    "R1 = 10\n",
    "R2 = 4\n",
    "R3 = 20\n",
    "\n",
    "Is = 1e-14 # reverse saturation current for the diode\n",
    "n = 1 # ideality factor\n",
    "\n",
    "Id = lambda V: Is*(np.exp(V/(n*Vt))-1) # diode equation\n",
    "\n",
    "V1 = 5 #voltage source\n",
    "\n",
    "def func(V):\n",
    "      VA = V[0]\n",
    "      VB = V[1]\n",
    "\n",
    "      F = np.empty((2))\n",
    "\n",
    "      F[0] = (V1-VA)/R1 - (VA-VB)/R2 - Id(VA-VB)\n",
    "      F[1] = (VA-VB)/R2 + Id(VA-VB) - VB/R3\n",
    "      return F\n",
    "\n",
    "#initial guess\n",
    "V0 = [V1, 0]\n",
    "\n",
    "#solve the voltages\n",
    "V = fsolve(func, V0)\n",
    "\n",
    "#printing results\n",
    "print('VA = {:.3f}, VB = {:.3f}'.format(V[0], V[1]))\n",
    "print(f\"VAB = {(V[0] - V[1]):.3f} V\")\n",
    "\n"
   ]
  }
 ],
 "metadata": {
  "kernelspec": {
   "display_name": "Python 3",
   "language": "python",
   "name": "python3"
  },
  "language_info": {
   "codemirror_mode": {
    "name": "ipython",
    "version": 3
   },
   "file_extension": ".py",
   "mimetype": "text/x-python",
   "name": "python",
   "nbconvert_exporter": "python",
   "pygments_lexer": "ipython3",
   "version": "3.10.13"
  }
 },
 "nbformat": 4,
 "nbformat_minor": 2
}
