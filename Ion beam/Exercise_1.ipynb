{
 "cells": [
  {
   "cell_type": "code",
   "execution_count": 7,
   "metadata": {},
   "outputs": [],
   "source": [
    "import sympy as sp\n",
    "from sympy import Symbol, cos, sin, sqrt"
   ]
  },
  {
   "cell_type": "code",
   "execution_count": 5,
   "metadata": {},
   "outputs": [],
   "source": [
    "M1 = Symbol('M_1', positive = True)\n",
    "M2 = Symbol('M_2', positive = True)\n",
    "theta = Symbol('theta', positive = True)"
   ]
  },
  {
   "cell_type": "code",
   "execution_count": 8,
   "metadata": {},
   "outputs": [
    {
     "data": {
      "text/latex": [
       "$\\displaystyle \\frac{M_{1} \\cos{\\left(\\theta \\right)} + \\sqrt{- M_{1}^{2} \\sin{\\left(\\theta \\right)} + M_{2}^{2}}}{M_{1} + M_{2}}$"
      ],
      "text/plain": [
       "(M_1*cos(theta) + sqrt(-M_1**2*sin(theta) + M_2**2))/(M_1 + M_2)"
      ]
     },
     "execution_count": 8,
     "metadata": {},
     "output_type": "execute_result"
    }
   ],
   "source": [
    "expression  = (M1*cos(theta) + sqrt(M2**2 - (M1**2)*sin(theta)))/(M1+M2)\n",
    "expression"
   ]
  },
  {
   "cell_type": "code",
   "execution_count": 12,
   "metadata": {},
   "outputs": [
    {
     "data": {
      "text/latex": [
       "$\\displaystyle 1 - \\frac{\\left(M_{1} \\cos{\\left(\\theta \\right)} + \\sqrt{- M_{1}^{2} \\sin{\\left(\\theta \\right)} + M_{2}^{2}}\\right)^{2}}{\\left(M_{1} + M_{2}\\right)^{2}}$"
      ],
      "text/plain": [
       "1 - (M_1*cos(theta) + sqrt(-M_1**2*sin(theta) + M_2**2))**2/(M_1 + M_2)**2"
      ]
     },
     "execution_count": 12,
     "metadata": {},
     "output_type": "execute_result"
    }
   ],
   "source": [
    "final_result = sp.simplify(1-expression**2)\n",
    "final_result"
   ]
  }
 ],
 "metadata": {
  "kernelspec": {
   "display_name": "Python 3",
   "language": "python",
   "name": "python3"
  },
  "language_info": {
   "codemirror_mode": {
    "name": "ipython",
    "version": 3
   },
   "file_extension": ".py",
   "mimetype": "text/x-python",
   "name": "python",
   "nbconvert_exporter": "python",
   "pygments_lexer": "ipython3",
   "version": "3.10.13"
  }
 },
 "nbformat": 4,
 "nbformat_minor": 2
}
