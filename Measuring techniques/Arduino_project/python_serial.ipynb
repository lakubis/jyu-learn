{
 "cells": [
  {
   "cell_type": "code",
   "execution_count": 14,
   "metadata": {},
   "outputs": [],
   "source": [
    "# Importing Libraries \n",
    "import serial \n",
    "import time \n",
    "arduino = serial.Serial(port='COM5', baudrate=115200, timeout=.1) "
   ]
  },
  {
   "cell_type": "code",
   "execution_count": 23,
   "metadata": {},
   "outputs": [
    {
     "name": "stdout",
     "output_type": "stream",
     "text": [
      "2001200220032004200520062007200820092010201120122013201420152016201720182019202020212022202320242025202620272028202920302031203220332034203520362037203820392040204120422043204420452046204720482049205020512052205320542055205620572058205920602061206220632064206520662067206820692070207120722073207420752076207720782079208020812082208320842085208620872088208920902091209220932094209520962097209820992100210121022103210421052106210721082109211021112112211321142115211621172118211921202121212221232124212521262127212821292130213121322133213421352136213721382139214021412142214321442145214621472148214921502151215221532154215521562157215821592160216121622163216421652166216721682169217021712172217321742175217621772178217921802181218221832184218521862187218821892190219121922193219421952196219721982199220022012202220322042205220622072208220922102211221222132214221522162217\n",
      "221822192220\n",
      "22212222\n",
      "2223\n",
      "22242225\n",
      "2226\n",
      "22272228\n",
      "22292230\n",
      "22312232\n",
      "22332234\n",
      "2235\n",
      "2236\n",
      "223722382239\n",
      "22402241\n",
      "224222432244\n",
      "2245\n",
      "2246224722482249225022512252\n",
      "2253\n",
      "22542255225622572258225922602261\n",
      "226222632264\n",
      "2265\n",
      "2266\n",
      "22672268226922702271\n",
      "227222732274\n",
      "22752276227722782279\n",
      "22802281\n",
      "228222832284\n",
      "22852286\n",
      "228722882289\n",
      "22902291\n",
      "2292229322942295229622972298229923002301230223032304\n",
      "23052306\n",
      "23072308230923102311\n",
      "2312231323142315231623172318\n",
      "231923202321232223232324\n",
      "2325232623272328232923302331233223332334\n",
      "2335\n",
      "2336\n",
      "2337\n"
     ]
    },
    {
     "ename": "KeyboardInterrupt",
     "evalue": "",
     "output_type": "error",
     "traceback": [
      "\u001b[1;31m---------------------------------------------------------------------------\u001b[0m",
      "\u001b[1;31mKeyboardInterrupt\u001b[0m                         Traceback (most recent call last)",
      "\u001b[1;32me:\\RADMEP_stuff\\Semester 1 - Jyväskylä\\jyu-learn\\Measuring techniques\\Arduino_project\\python_serial.ipynb Cell 2\u001b[0m line \u001b[0;36m1\n\u001b[0;32m     <a href='vscode-notebook-cell:/e%3A/RADMEP_stuff/Semester%201%20-%20Jyv%C3%A4skyl%C3%A4/jyu-learn/Measuring%20techniques/Arduino_project/python_serial.ipynb#W1sZmlsZQ%3D%3D?line=11'>12</a>\u001b[0m \t\u001b[39mreturn\u001b[39;00m num\n\u001b[0;32m     <a href='vscode-notebook-cell:/e%3A/RADMEP_stuff/Semester%201%20-%20Jyv%C3%A4skyl%C3%A4/jyu-learn/Measuring%20techniques/Arduino_project/python_serial.ipynb#W1sZmlsZQ%3D%3D?line=13'>14</a>\u001b[0m \u001b[39mwhile\u001b[39;00m \u001b[39mTrue\u001b[39;00m: \n\u001b[0;32m     <a href='vscode-notebook-cell:/e%3A/RADMEP_stuff/Semester%201%20-%20Jyv%C3%A4skyl%C3%A4/jyu-learn/Measuring%20techniques/Arduino_project/python_serial.ipynb#W1sZmlsZQ%3D%3D?line=14'>15</a>\u001b[0m \t\u001b[39m#num = input(\"Enter a number: \") # Taking input from user \u001b[39;00m\n\u001b[1;32m---> <a href='vscode-notebook-cell:/e%3A/RADMEP_stuff/Semester%201%20-%20Jyv%C3%A4skyl%C3%A4/jyu-learn/Measuring%20techniques/Arduino_project/python_serial.ipynb#W1sZmlsZQ%3D%3D?line=15'>16</a>\u001b[0m \tvalue \u001b[39m=\u001b[39m just_read() \n\u001b[0;32m     <a href='vscode-notebook-cell:/e%3A/RADMEP_stuff/Semester%201%20-%20Jyv%C3%A4skyl%C3%A4/jyu-learn/Measuring%20techniques/Arduino_project/python_serial.ipynb#W1sZmlsZQ%3D%3D?line=16'>17</a>\u001b[0m \t\u001b[39mprint\u001b[39m(value)\n",
      "\u001b[1;32me:\\RADMEP_stuff\\Semester 1 - Jyväskylä\\jyu-learn\\Measuring techniques\\Arduino_project\\python_serial.ipynb Cell 2\u001b[0m line \u001b[0;36m8\n\u001b[0;32m      <a href='vscode-notebook-cell:/e%3A/RADMEP_stuff/Semester%201%20-%20Jyv%C3%A4skyl%C3%A4/jyu-learn/Measuring%20techniques/Arduino_project/python_serial.ipynb#W1sZmlsZQ%3D%3D?line=6'>7</a>\u001b[0m \u001b[39mdef\u001b[39;00m \u001b[39mjust_read\u001b[39m():\n\u001b[1;32m----> <a href='vscode-notebook-cell:/e%3A/RADMEP_stuff/Semester%201%20-%20Jyv%C3%A4skyl%C3%A4/jyu-learn/Measuring%20techniques/Arduino_project/python_serial.ipynb#W1sZmlsZQ%3D%3D?line=7'>8</a>\u001b[0m \tdata \u001b[39m=\u001b[39m arduino\u001b[39m.\u001b[39;49mreadline()\n\u001b[0;32m      <a href='vscode-notebook-cell:/e%3A/RADMEP_stuff/Semester%201%20-%20Jyv%C3%A4skyl%C3%A4/jyu-learn/Measuring%20techniques/Arduino_project/python_serial.ipynb#W1sZmlsZQ%3D%3D?line=8'>9</a>\u001b[0m \tword \u001b[39m=\u001b[39m \u001b[39mstr\u001b[39m(data)\n\u001b[0;32m     <a href='vscode-notebook-cell:/e%3A/RADMEP_stuff/Semester%201%20-%20Jyv%C3%A4skyl%C3%A4/jyu-learn/Measuring%20techniques/Arduino_project/python_serial.ipynb#W1sZmlsZQ%3D%3D?line=9'>10</a>\u001b[0m \tstuff \u001b[39m=\u001b[39m word\u001b[39m.\u001b[39msplit(\u001b[39m\"\u001b[39m\u001b[39m'\u001b[39m\u001b[39m\"\u001b[39m)\n",
      "File \u001b[1;32mc:\\Users\\cahya\\anaconda3\\envs\\jyu_learn\\lib\\site-packages\\serial\\serialwin32.py:288\u001b[0m, in \u001b[0;36mSerial.read\u001b[1;34m(self, size)\u001b[0m\n\u001b[0;32m    286\u001b[0m \u001b[39mif\u001b[39;00m \u001b[39mnot\u001b[39;00m read_ok \u001b[39mand\u001b[39;00m win32\u001b[39m.\u001b[39mGetLastError() \u001b[39mnot\u001b[39;00m \u001b[39min\u001b[39;00m (win32\u001b[39m.\u001b[39mERROR_SUCCESS, win32\u001b[39m.\u001b[39mERROR_IO_PENDING):\n\u001b[0;32m    287\u001b[0m     \u001b[39mraise\u001b[39;00m SerialException(\u001b[39m\"\u001b[39m\u001b[39mReadFile failed (\u001b[39m\u001b[39m{!r}\u001b[39;00m\u001b[39m)\u001b[39m\u001b[39m\"\u001b[39m\u001b[39m.\u001b[39mformat(ctypes\u001b[39m.\u001b[39mWinError()))\n\u001b[1;32m--> 288\u001b[0m result_ok \u001b[39m=\u001b[39m win32\u001b[39m.\u001b[39;49mGetOverlappedResult(\n\u001b[0;32m    289\u001b[0m     \u001b[39mself\u001b[39;49m\u001b[39m.\u001b[39;49m_port_handle,\n\u001b[0;32m    290\u001b[0m     ctypes\u001b[39m.\u001b[39;49mbyref(\u001b[39mself\u001b[39;49m\u001b[39m.\u001b[39;49m_overlapped_read),\n\u001b[0;32m    291\u001b[0m     ctypes\u001b[39m.\u001b[39;49mbyref(rc),\n\u001b[0;32m    292\u001b[0m     \u001b[39mTrue\u001b[39;49;00m)\n\u001b[0;32m    293\u001b[0m \u001b[39mif\u001b[39;00m \u001b[39mnot\u001b[39;00m result_ok:\n\u001b[0;32m    294\u001b[0m     \u001b[39mif\u001b[39;00m win32\u001b[39m.\u001b[39mGetLastError() \u001b[39m!=\u001b[39m win32\u001b[39m.\u001b[39mERROR_OPERATION_ABORTED:\n",
      "\u001b[1;31mKeyboardInterrupt\u001b[0m: "
     ]
    }
   ],
   "source": [
    "\n",
    "\n",
    "def write_read(x): \n",
    "\tarduino.write(bytes(x, 'utf-8')) \n",
    "\ttime.sleep(0.05) \n",
    "\tdata = arduino.readline() \n",
    "\treturn data \n",
    "\n",
    "def just_read():\n",
    "\tdata = arduino.readline()\n",
    "\tword = str(data)\n",
    "\tstuff = word.split(\"'\")\n",
    "\tnum = int(stuff[1])\n",
    "\treturn num\n",
    "\n",
    "while True: \n",
    "\t#num = input(\"Enter a number: \") # Taking input from user \n",
    "\tvalue = just_read() \n",
    "\tprint(value) # printing the value\n"
   ]
  },
  {
   "cell_type": "code",
   "execution_count": 44,
   "metadata": {},
   "outputs": [],
   "source": [
    "def str2arr(coor):\n",
    "    without_brackets = coor[1:-1]\n",
    "    vals = without_brackets.split(\",\")\n",
    "    vals_float = [float(val) for val in vals]\n",
    "    return vals_float"
   ]
  },
  {
   "cell_type": "code",
   "execution_count": 46,
   "metadata": {},
   "outputs": [],
   "source": [
    "def serial2coors(message):\n",
    "    message_str = str(message)\n",
    "    coors_str = message_str.split(\"'\")[1].split(\";\")[:-1]\n",
    "    coors_arr = [str2arr(coor) for coor in coors_str]\n",
    "    return coors_arr"
   ]
  },
  {
   "cell_type": "code",
   "execution_count": 45,
   "metadata": {},
   "outputs": [
    {
     "name": "stdout",
     "output_type": "stream",
     "text": [
      "['b', '(2,3,5);(7,3,4);(9,10,22);', '']\n",
      "(2,3,5);(7,3,4);(9,10,22);\n",
      "['(2,3,5)', '(7,3,4)', '(9,10,22)']\n",
      "[[2.0, 3.0, 5.0], [7.0, 3.0, 4.0], [9.0, 10.0, 22.0]]\n"
     ]
    }
   ],
   "source": [
    "split_this = \"b'(2,3,5);(7,3,4);(9,10,22);'\"\n",
    "\n",
    "first_split = split_this.split(\"'\")\n",
    "print(first_split)\n",
    "\n",
    "second_split = first_split[1]\n",
    "print(second_split)\n",
    "\n",
    "third_split = second_split.split(\";\")[:-1]\n",
    "print(third_split)\n",
    "\n",
    "fourth_split = [str2arr(coor) for coor in third_split]\n",
    "print(fourth_split)\n"
   ]
  },
  {
   "cell_type": "code",
   "execution_count": 49,
   "metadata": {},
   "outputs": [],
   "source": [
    "from time import time"
   ]
  },
  {
   "cell_type": "code",
   "execution_count": 50,
   "metadata": {},
   "outputs": [
    {
     "name": "stdout",
     "output_type": "stream",
     "text": [
      "[[2.0, 3.0, 5.0], [7.0, 3.0, 4.0], [9.0, 10.0, 22.0]]\n"
     ]
    }
   ],
   "source": [
    "tic = time()\n",
    "print(serial2coors(split_this))\n",
    "toc = time()"
   ]
  },
  {
   "cell_type": "code",
   "execution_count": 51,
   "metadata": {},
   "outputs": [
    {
     "data": {
      "text/plain": [
       "0.0010044574737548828"
      ]
     },
     "execution_count": 51,
     "metadata": {},
     "output_type": "execute_result"
    }
   ],
   "source": [
    "toc-tic"
   ]
  }
 ],
 "metadata": {
  "kernelspec": {
   "display_name": "Python 3",
   "language": "python",
   "name": "python3"
  },
  "language_info": {
   "codemirror_mode": {
    "name": "ipython",
    "version": 3
   },
   "file_extension": ".py",
   "mimetype": "text/x-python",
   "name": "python",
   "nbconvert_exporter": "python",
   "pygments_lexer": "ipython3",
   "version": "3.10.13"
  }
 },
 "nbformat": 4,
 "nbformat_minor": 2
}
