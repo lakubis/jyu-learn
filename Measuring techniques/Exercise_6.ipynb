{
 "cells": [
  {
   "cell_type": "code",
   "execution_count": 37,
   "metadata": {},
   "outputs": [],
   "source": [
    "import sympy as sp\n",
    "from sympy import sqrt, Symbol, diff, latex, simplify"
   ]
  },
  {
   "cell_type": "code",
   "execution_count": 26,
   "metadata": {},
   "outputs": [],
   "source": [
    "R_s = Symbol('R_s', positive = True)\n",
    "R_dd = Symbol('R_{\\delta d}', positive = True)\n",
    "R_tc = Symbol('R_{TC}', positive = True)\n",
    "dT = Symbol('\\Delta T', positive = True)\n",
    "Ratio = Symbol('(V_{x}/V_{s})', positive = True)\n",
    "u_Rs = Symbol('u(R_{s})', positive = True)\n",
    "u_Rdd = Symbol('u(R_{\\delta d})', positive = True)\n",
    "u_dT = Symbol('u(\\Delta T)', positive = True)\n",
    "u_Ratio = Symbol('u(V_{x}/V_{s})', positive = True)"
   ]
  },
  {
   "cell_type": "code",
   "execution_count": 27,
   "metadata": {},
   "outputs": [
    {
     "data": {
      "text/latex": [
       "$\\displaystyle (V_{x}/V_{s}) \\left(R_{s} + R_{TC} \\Delta T + R_{\\delta d}\\right)$"
      ],
      "text/plain": [
       "(V_{x}/V_{s})*(R_s + R_{TC}*\\Delta T + R_{\\delta d})"
      ]
     },
     "execution_count": 27,
     "metadata": {},
     "output_type": "execute_result"
    }
   ],
   "source": [
    "Rx = (R_s + R_dd + R_tc*dT)*(Ratio)\n",
    "Rx"
   ]
  },
  {
   "cell_type": "code",
   "execution_count": 28,
   "metadata": {},
   "outputs": [
    {
     "data": {
      "text/latex": [
       "$\\displaystyle (V_{x}/V_{s})^{2} u(R_{s})^{2}$"
      ],
      "text/plain": [
       "(V_{x}/V_{s})**2*u(R_{s})**2"
      ]
     },
     "execution_count": 28,
     "metadata": {},
     "output_type": "execute_result"
    }
   ],
   "source": [
    "first_exp = (diff(Rx, R_s)**2) * (u_Rs**2)\n",
    "first_exp"
   ]
  },
  {
   "cell_type": "code",
   "execution_count": 30,
   "metadata": {},
   "outputs": [
    {
     "data": {
      "text/latex": [
       "$\\displaystyle (V_{x}/V_{s})^{2} u(R_{\\delta d})^{2}$"
      ],
      "text/plain": [
       "(V_{x}/V_{s})**2*u(R_{\\delta d})**2"
      ]
     },
     "execution_count": 30,
     "metadata": {},
     "output_type": "execute_result"
    }
   ],
   "source": [
    "second_exp = (diff(Rx, R_dd)**2) * (u_Rdd**2)\n",
    "second_exp"
   ]
  },
  {
   "cell_type": "code",
   "execution_count": 32,
   "metadata": {},
   "outputs": [
    {
     "data": {
      "text/latex": [
       "$\\displaystyle (V_{x}/V_{s})^{2} R_{TC}^{2} u(\\Delta T)^{2}$"
      ],
      "text/plain": [
       "(V_{x}/V_{s})**2*R_{TC}**2*u(\\Delta T)**2"
      ]
     },
     "execution_count": 32,
     "metadata": {},
     "output_type": "execute_result"
    }
   ],
   "source": [
    "third_exp = (diff(Rx, dT)**2) * (u_dT**2)\n",
    "third_exp"
   ]
  },
  {
   "cell_type": "code",
   "execution_count": 33,
   "metadata": {},
   "outputs": [
    {
     "data": {
      "text/latex": [
       "$\\displaystyle u(V_{x}/V_{s})^{2} \\left(R_{s} + R_{TC} \\Delta T + R_{\\delta d}\\right)^{2}$"
      ],
      "text/plain": [
       "u(V_{x}/V_{s})**2*(R_s + R_{TC}*\\Delta T + R_{\\delta d})**2"
      ]
     },
     "execution_count": 33,
     "metadata": {},
     "output_type": "execute_result"
    }
   ],
   "source": [
    "fourth_exp = (diff(Rx, Ratio)**2) * (u_Ratio**2)\n",
    "fourth_exp"
   ]
  },
  {
   "cell_type": "code",
   "execution_count": 34,
   "metadata": {},
   "outputs": [
    {
     "data": {
      "text/latex": [
       "$\\displaystyle (V_{x}/V_{s})^{2} R_{TC}^{2} u(\\Delta T)^{2} + (V_{x}/V_{s})^{2} u(R_{\\delta d})^{2} + (V_{x}/V_{s})^{2} u(R_{s})^{2} + u(V_{x}/V_{s})^{2} \\left(R_{s} + R_{TC} \\Delta T + R_{\\delta d}\\right)^{2}$"
      ],
      "text/plain": [
       "(V_{x}/V_{s})**2*R_{TC}**2*u(\\Delta T)**2 + (V_{x}/V_{s})**2*u(R_{\\delta d})**2 + (V_{x}/V_{s})**2*u(R_{s})**2 + u(V_{x}/V_{s})**2*(R_s + R_{TC}*\\Delta T + R_{\\delta d})**2"
      ]
     },
     "execution_count": 34,
     "metadata": {},
     "output_type": "execute_result"
    }
   ],
   "source": [
    "total_exp = first_exp + second_exp + third_exp + fourth_exp\n",
    "total_exp"
   ]
  },
  {
   "cell_type": "code",
   "execution_count": 39,
   "metadata": {},
   "outputs": [
    {
     "data": {
      "text/latex": [
       "$\\displaystyle (V_{x}/V_{s})^{2} R_{TC}^{2} u(\\Delta T)^{2} + (V_{x}/V_{s})^{2} u(R_{\\delta d})^{2} + (V_{x}/V_{s})^{2} u(R_{s})^{2} + u(V_{x}/V_{s})^{2} \\left(R_{s} + R_{TC} \\Delta T + R_{\\delta d}\\right)^{2}$"
      ],
      "text/plain": [
       "(V_{x}/V_{s})**2*R_{TC}**2*u(\\Delta T)**2 + (V_{x}/V_{s})**2*u(R_{\\delta d})**2 + (V_{x}/V_{s})**2*u(R_{s})**2 + u(V_{x}/V_{s})**2*(R_s + R_{TC}*\\Delta T + R_{\\delta d})**2"
      ]
     },
     "execution_count": 39,
     "metadata": {},
     "output_type": "execute_result"
    }
   ],
   "source": [
    "simplify(total_exp)"
   ]
  },
  {
   "cell_type": "code",
   "execution_count": 38,
   "metadata": {},
   "outputs": [
    {
     "name": "stdout",
     "output_type": "stream",
     "text": [
      "(V_{x}/V_{s})^{2} R_{TC}^{2} u(\\Delta T)^{2} + (V_{x}/V_{s})^{2} u(R_{\\delta d})^{2} + (V_{x}/V_{s})^{2} u(R_{s})^{2} + u(V_{x}/V_{s})^{2} \\left(R_{s} + R_{TC} \\Delta T + R_{\\delta d}\\right)^{2}\n"
     ]
    }
   ],
   "source": [
    "print(latex(simplify(total_exp)))"
   ]
  },
  {
   "cell_type": "code",
   "execution_count": 46,
   "metadata": {},
   "outputs": [
    {
     "data": {
      "text/latex": [
       "$\\displaystyle 0.0061034782453335$"
      ],
      "text/plain": [
       "0.00610347824533350"
      ]
     },
     "execution_count": 46,
     "metadata": {},
     "output_type": "execute_result"
    }
   ],
   "source": [
    "sqrt(total_exp.subs(Ratio,1.00001047).subs(R_s, 10000.053).subs(R_tc,10e-3).subs(R_dd, 10e-3).subs(dT, 0.1).subs(u_Rs, 5e-3).subs(u_Rdd, 2.89e-3).subs(u_dT, 0.0577).subs(u_Ratio, 0.0000001888562064))"
   ]
  }
 ],
 "metadata": {
  "kernelspec": {
   "display_name": "Python 3",
   "language": "python",
   "name": "python3"
  },
  "language_info": {
   "codemirror_mode": {
    "name": "ipython",
    "version": 3
   },
   "file_extension": ".py",
   "mimetype": "text/x-python",
   "name": "python",
   "nbconvert_exporter": "python",
   "pygments_lexer": "ipython3",
   "version": "3.10.13"
  }
 },
 "nbformat": 4,
 "nbformat_minor": 2
}
