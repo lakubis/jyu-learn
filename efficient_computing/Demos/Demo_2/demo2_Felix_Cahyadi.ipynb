{
 "cells": [
  {
   "cell_type": "markdown",
   "metadata": {},
   "source": [
    "# FYSS5120 Efficient Numerical Programming - Demo 2\n",
    "\n",
    "Author: Felix Cahyadi\n",
    "\n",
    "Date: 19.09.2023"
   ]
  },
  {
   "cell_type": "markdown",
   "metadata": {},
   "source": [
    "## 1. Time NumPy sum() method vs. Python sum() function"
   ]
  },
  {
   "cell_type": "code",
   "execution_count": 2,
   "metadata": {},
   "outputs": [],
   "source": [
    "# import time to measure time\n",
    "from time import perf_counter\n"
   ]
  },
  {
   "cell_type": "code",
   "execution_count": 3,
   "metadata": {},
   "outputs": [],
   "source": [
    "# prepare the array that we want to sum over\n",
    "import numpy as np\n",
    "# Initialize np.random seed\n",
    "np.random.seed(20092023)\n",
    "\n",
    "\n",
    "N = 10000000\n",
    "A = np.random.random(N)"
   ]
  },
  {
   "cell_type": "code",
   "execution_count": 4,
   "metadata": {},
   "outputs": [
    {
     "name": "stdout",
     "output_type": "stream",
     "text": [
      "The value of the sum: 4999440.177048801\n",
      "The time needed to sum the array using NumPy is: 0.02069660008419305 seconds\n"
     ]
    }
   ],
   "source": [
    "# timing the NumPy sum() method\n",
    "tic = perf_counter()\n",
    "sum_np = np.sum(A)\n",
    "toc = perf_counter()\n",
    "print(\"The value of the sum:\",sum_np)\n",
    "print(\"The time needed to sum the array using NumPy is:\", toc-tic,\"seconds\")"
   ]
  },
  {
   "cell_type": "code",
   "execution_count": 5,
   "metadata": {},
   "outputs": [
    {
     "name": "stdout",
     "output_type": "stream",
     "text": [
      "The value of the sum: 4999440.177049306\n",
      "The time needed to sum the array using Python built-in function is: 0.7354535999475047 seconds\n"
     ]
    }
   ],
   "source": [
    "# timing the Python sum() function\n",
    "tic = perf_counter()\n",
    "sum_bi = sum(A)\n",
    "toc = perf_counter()\n",
    "print(\"The value of the sum:\",sum_bi)\n",
    "print(\"The time needed to sum the array using Python built-in function is:\", toc-tic, \"seconds\")"
   ]
  },
  {
   "cell_type": "markdown",
   "metadata": {},
   "source": [
    "### Conclusion: The Python built-in function takes more time to sum the values compared to the NumPy function."
   ]
  },
  {
   "cell_type": "markdown",
   "metadata": {},
   "source": [
    "## Write a Python code that computes the distances of 1000 particles in three-dimensional space. The particle coordinates are in the NumPy NxD array x.\n",
    "\n",
    "### Time the five ways to compute particle distances using, for example, time.perf_counter():"
   ]
  },
  {
   "cell_type": "code",
   "execution_count": 6,
   "metadata": {},
   "outputs": [
    {
     "name": "stdout",
     "output_type": "stream",
     "text": [
      "This is the coordinate array: [[0.16903913 0.38412363 0.40311881]\n",
      " [0.27801375 0.16623097 0.67475415]\n",
      " [0.25267802 0.53406194 0.31159744]\n",
      " ...\n",
      " [0.26628117 0.81110868 0.1184048 ]\n",
      " [0.49298813 0.9692693  0.36463858]\n",
      " [0.49425334 0.2028975  0.99916542]]\n",
      "The shape of the NxD array: (1000, 3)\n"
     ]
    }
   ],
   "source": [
    "# Initialize the array, the dimension of the array is N x D, where N is the number of particles and D is the number of coordinates describing the position of the particle\n",
    "\n",
    "N = 1000\n",
    "D = 3\n",
    "coor_arr = np.random.random((N,D))\n",
    "print(\"This is the coordinate array:\", coor_arr)\n",
    "print(\"The shape of the NxD array:\",coor_arr.shape)"
   ]
  },
  {
   "cell_type": "code",
   "execution_count": 7,
   "metadata": {},
   "outputs": [
    {
     "data": {
      "text/plain": [
       "0.3648814013113516"
      ]
     },
     "execution_count": 7,
     "metadata": {},
     "output_type": "execute_result"
    }
   ],
   "source": [
    "# Checking the value of the distance between the 1st particle and 2nd particle\n",
    "np.sqrt((0.16903913-0.27801375)**2 + (0.38412363-0.16623097)**2 + (0.40311881-0.67475415)**2)"
   ]
  },
  {
   "cell_type": "markdown",
   "metadata": {},
   "source": [
    "(a) NumPy broadcasting used in sample code potential_simple.py"
   ]
  },
  {
   "cell_type": "code",
   "execution_count": 8,
   "metadata": {},
   "outputs": [],
   "source": [
    "def distance_broadcast(x):\n",
    "    d = x[:,np.newaxis,:]-x\n",
    "    r = np.sqrt((d**2).sum(2))\n",
    "    rs = r[np.triu_indices_from(r,1)]\n",
    "    return rs"
   ]
  },
  {
   "cell_type": "code",
   "execution_count": 9,
   "metadata": {},
   "outputs": [
    {
     "name": "stdout",
     "output_type": "stream",
     "text": [
      "The matrix shape is: (499500,)\n",
      "First 10 result of the sum: [0.3648814  0.19455879 0.61243924 0.58275348 0.64917966 0.37143821\n",
      " 0.7321392  0.88522493 0.59029583 0.79632249]\n",
      "Time needed for this method is: 0.11298199999146163 second\n"
     ]
    }
   ],
   "source": [
    "tic = perf_counter()\n",
    "dist_broad = distance_broadcast(coor_arr)\n",
    "toc = perf_counter()\n",
    "print('The matrix shape is:',dist_broad.shape)\n",
    "print(\"First 10 result of the sum:\",dist_broad[0:10])\n",
    "print(\"Time needed for this method is:\",toc-tic,\"second\")"
   ]
  },
  {
   "cell_type": "markdown",
   "metadata": {},
   "source": [
    "(b) A version that uses numpy.linalg.norm() to compute r in the previous code."
   ]
  },
  {
   "cell_type": "code",
   "execution_count": 10,
   "metadata": {},
   "outputs": [],
   "source": [
    "# Import library\n",
    "from numpy.linalg import norm"
   ]
  },
  {
   "cell_type": "code",
   "execution_count": 11,
   "metadata": {},
   "outputs": [],
   "source": [
    "def distance_norm(arr):\n",
    "    d = arr[:,np.newaxis,:]-arr\n",
    "    r = norm(d, ord=2, axis=2) # sum over the d axis\n",
    "    rs = r[np.triu_indices_from(r,1)]\n",
    "    return rs"
   ]
  },
  {
   "cell_type": "code",
   "execution_count": 12,
   "metadata": {},
   "outputs": [
    {
     "name": "stdout",
     "output_type": "stream",
     "text": [
      "The matrix shape is: (499500,)\n",
      "First 10 result of the sum: [0.3648814  0.19455879 0.61243924 0.58275348 0.64917966 0.37143821\n",
      " 0.7321392  0.88522493 0.59029583 0.79632249]\n",
      "Time needed for this method is: 0.09493960009422153 second\n"
     ]
    }
   ],
   "source": [
    "tic = perf_counter()\n",
    "dist_norm = distance_norm(coor_arr)\n",
    "toc = perf_counter()\n",
    "print('The matrix shape is:', dist_norm.shape)\n",
    "print(\"First 10 result of the sum:\",dist_norm[0:10])\n",
    "print(\"Time needed for this method is:\",toc-tic,\"second\")"
   ]
  },
  {
   "cell_type": "markdown",
   "metadata": {},
   "source": [
    "(c) Compute r using numpy.einsum()"
   ]
  },
  {
   "cell_type": "code",
   "execution_count": 13,
   "metadata": {},
   "outputs": [],
   "source": [
    "def distance_einstein(arr):\n",
    "    d = arr[:,np.newaxis,:] - arr\n",
    "    r = np.sqrt(np.einsum('ijk,ijk->ij',d,d)) # Using Einstein notation\n",
    "    rs = r[np.triu_indices_from(r,1)]\n",
    "    return rs"
   ]
  },
  {
   "cell_type": "code",
   "execution_count": 14,
   "metadata": {},
   "outputs": [
    {
     "name": "stdout",
     "output_type": "stream",
     "text": [
      "The matrix shape is: (499500,)\n",
      "First 10 result of the sum: [0.3648814  0.19455879 0.61243924 0.58275348 0.64917966 0.37143821\n",
      " 0.7321392  0.88522493 0.59029583 0.79632249]\n",
      "Time needed for this method is: 0.05794550001155585 second\n"
     ]
    }
   ],
   "source": [
    "tic = perf_counter()\n",
    "dist_einsum = distance_einstein(coor_arr)\n",
    "toc = perf_counter()\n",
    "print('The matrix shape is:', dist_einsum.shape)\n",
    "print(\"First 10 result of the sum:\",dist_einsum[0:10])\n",
    "print(\"Time needed for this method is:\",toc-tic,\"second\")"
   ]
  },
  {
   "cell_type": "markdown",
   "metadata": {},
   "source": [
    "(d) A version that uses scipy.spatial.distance.pdist."
   ]
  },
  {
   "cell_type": "code",
   "execution_count": 15,
   "metadata": {},
   "outputs": [],
   "source": [
    "from scipy.spatial.distance import pdist"
   ]
  },
  {
   "cell_type": "code",
   "execution_count": 16,
   "metadata": {},
   "outputs": [],
   "source": [
    "def distance_pdist(arr):\n",
    "    rs = pdist(arr)\n",
    "    return rs"
   ]
  },
  {
   "cell_type": "code",
   "execution_count": 17,
   "metadata": {},
   "outputs": [
    {
     "name": "stdout",
     "output_type": "stream",
     "text": [
      "The matrix shape is: (499500,)\n",
      "First 10 result of the sum: [0.3648814  0.19455879 0.61243924 0.58275348 0.64917966 0.37143821\n",
      " 0.7321392  0.88522493 0.59029583 0.79632249]\n",
      "Time needed for this method is: 0.006051399977877736 second\n"
     ]
    }
   ],
   "source": [
    "tic = perf_counter()\n",
    "dist_pdist = distance_pdist(coor_arr)\n",
    "toc = perf_counter()\n",
    "print('The matrix shape is:', dist_pdist.shape)\n",
    "print(\"First 10 result of the sum:\",dist_pdist[0:10])\n",
    "print(\"Time needed for this method is:\",toc-tic,\"second\")"
   ]
  },
  {
   "cell_type": "markdown",
   "metadata": {},
   "source": [
    "(e) A basic for-loop, but with Numba @njit decorator"
   ]
  },
  {
   "cell_type": "code",
   "execution_count": 18,
   "metadata": {},
   "outputs": [],
   "source": [
    "# import library\n",
    "from numba import njit"
   ]
  },
  {
   "cell_type": "code",
   "execution_count": 19,
   "metadata": {},
   "outputs": [],
   "source": [
    "@njit(fastmath = True)\n",
    "def distance_njit(arr):\n",
    "    d = arr[:,np.newaxis,:] - arr\n",
    "\n",
    "    # start the loop\n",
    "    ni,nj,nk = d.shape\n",
    "    r = np.zeros((ni,nj))\n",
    "    for i in range(ni):\n",
    "        for j in range(nj):\n",
    "            sum_sq = 0.0\n",
    "            for k in range(nk):\n",
    "                sum_sq += d[i,j,k]**2\n",
    "            r[i,j] = np.sqrt(sum_sq)\n",
    "\n",
    "    rs = []\n",
    "    for i in range(ni):\n",
    "        for j in range(i+1,nj):\n",
    "            rs.append(r[i,j])\n",
    "    \n",
    "    rs = np.array(rs)\n",
    "\n",
    "    return rs"
   ]
  },
  {
   "cell_type": "code",
   "execution_count": 20,
   "metadata": {},
   "outputs": [
    {
     "name": "stdout",
     "output_type": "stream",
     "text": [
      "The matrix shape is: (499500,)\n",
      "First 10 result of the sum: [0.3648814  0.19455879 0.61243924 0.58275348 0.64917966 0.37143821\n",
      " 0.7321392  0.88522493 0.59029583 0.79632249]\n",
      "Time needed for this method is: 1.994969200110063 second\n"
     ]
    }
   ],
   "source": [
    "tic = perf_counter()\n",
    "dist_njit = distance_njit(coor_arr)\n",
    "toc = perf_counter()\n",
    "print('The matrix shape is:',dist_njit.shape)\n",
    "print(\"First 10 result of the sum:\",dist_njit[0:10])\n",
    "print(\"Time needed for this method is:\",toc-tic,\"second\")"
   ]
  },
  {
   "cell_type": "code",
   "execution_count": 21,
   "metadata": {},
   "outputs": [
    {
     "name": "stdout",
     "output_type": "stream",
     "text": [
      "difference between 1st and 2nd method: 0.0\n",
      "difference between 1st and 3rd method: 2.6961259399820837e-14\n",
      "difference between 1st and 4th method: 0.0\n",
      "difference between 1st and 5th method: 2.5592297614755837e-14\n"
     ]
    }
   ],
   "source": [
    "# do some checking, assume that the 1st method gave us the correct answer\n",
    "\n",
    "# compare 1st and 2nd method\n",
    "print(\"difference between 1st and 2nd method:\",norm(dist_broad-dist_norm))\n",
    "\n",
    "# compare 1st and 3rd method\n",
    "print(\"difference between 1st and 3rd method:\",norm(dist_broad-dist_einsum))\n",
    "\n",
    "# compare 1st and 4th method\n",
    "print(\"difference between 1st and 4th method:\",norm(dist_broad-dist_pdist))\n",
    "\n",
    "# compare 1st and 5th method\n",
    "print(\"difference between 1st and 5th method:\",norm(dist_broad-dist_njit))\n"
   ]
  },
  {
   "cell_type": "markdown",
   "metadata": {},
   "source": [
    "### Conclusion: We can say that our implementation is correct, because all of them gave us the same result. The fastest method is the pdist function, while the basic for-loop with the Numba decorator is the slowest."
   ]
  },
  {
   "cell_type": "markdown",
   "metadata": {},
   "source": []
  }
 ],
 "metadata": {
  "kernelspec": {
   "display_name": "Python 3",
   "language": "python",
   "name": "python3"
  },
  "language_info": {
   "codemirror_mode": {
    "name": "ipython",
    "version": 3
   },
   "file_extension": ".py",
   "mimetype": "text/x-python",
   "name": "python",
   "nbconvert_exporter": "python",
   "pygments_lexer": "ipython3",
   "version": "3.10.13"
  },
  "orig_nbformat": 4
 },
 "nbformat": 4,
 "nbformat_minor": 2
}
