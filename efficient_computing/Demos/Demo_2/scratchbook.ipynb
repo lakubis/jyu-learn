{
 "cells": [
  {
   "cell_type": "code",
   "execution_count": 7,
   "metadata": {},
   "outputs": [],
   "source": [
    "import numpy as np\n",
    "np.random.seed(3148954390)"
   ]
  },
  {
   "cell_type": "code",
   "execution_count": 8,
   "metadata": {},
   "outputs": [
    {
     "name": "stdout",
     "output_type": "stream",
     "text": [
      "[[0.5750586  0.23533348 0.63871382]\n",
      " [0.20123823 0.02631137 0.73035307]\n",
      " [0.0040074  0.78377444 0.93347798]]\n"
     ]
    }
   ],
   "source": [
    "arr = np.random.random((3,3))\n",
    "print(arr)"
   ]
  },
  {
   "cell_type": "code",
   "execution_count": 9,
   "metadata": {},
   "outputs": [
    {
     "name": "stdout",
     "output_type": "stream",
     "text": [
      "[[[0.5750586  0.23533348 0.63871382]]\n",
      "\n",
      " [[0.20123823 0.02631137 0.73035307]]\n",
      "\n",
      " [[0.0040074  0.78377444 0.93347798]]]\n",
      "(3, 1, 3)\n",
      "0.23533348028648737\n"
     ]
    }
   ],
   "source": [
    "c = arr[:,np.newaxis,:]\n",
    "print(c)\n",
    "print(c.shape)\n",
    "print(c[0,0,1])"
   ]
  },
  {
   "cell_type": "code",
   "execution_count": 10,
   "metadata": {},
   "outputs": [
    {
     "name": "stdout",
     "output_type": "stream",
     "text": [
      "(3, 3, 3)\n",
      "[[[0.5750586  0.23533348 0.63871382]\n",
      "  [0.5750586  0.23533348 0.63871382]\n",
      "  [0.5750586  0.23533348 0.63871382]]\n",
      "\n",
      " [[0.20123823 0.02631137 0.73035307]\n",
      "  [0.20123823 0.02631137 0.73035307]\n",
      "  [0.20123823 0.02631137 0.73035307]]\n",
      "\n",
      " [[0.0040074  0.78377444 0.93347798]\n",
      "  [0.0040074  0.78377444 0.93347798]\n",
      "  [0.0040074  0.78377444 0.93347798]]]\n"
     ]
    }
   ],
   "source": [
    "d = arr[:,np.newaxis,:]-np.zeros_like(arr)\n",
    "print(d.shape)\n",
    "print(d)"
   ]
  },
  {
   "cell_type": "code",
   "execution_count": 11,
   "metadata": {},
   "outputs": [],
   "source": [
    "arr1 = np.zeros((3,3,3))\n",
    "arr1[:,0,:] = arr\n",
    "arr1[:,1,:] = arr\n",
    "arr1[:,2,:] = arr"
   ]
  },
  {
   "cell_type": "code",
   "execution_count": 12,
   "metadata": {},
   "outputs": [
    {
     "name": "stdout",
     "output_type": "stream",
     "text": [
      "[[[3.30692394e-01 5.53818469e-02 4.07955346e-01]\n",
      "  [3.30692394e-01 5.53818469e-02 4.07955346e-01]\n",
      "  [3.30692394e-01 5.53818469e-02 4.07955346e-01]]\n",
      "\n",
      " [[4.04968264e-02 6.92288267e-04 5.33415603e-01]\n",
      "  [4.04968264e-02 6.92288267e-04 5.33415603e-01]\n",
      "  [4.04968264e-02 6.92288267e-04 5.33415603e-01]]\n",
      "\n",
      " [[1.60592194e-05 6.14302373e-01 8.71381148e-01]\n",
      "  [1.60592194e-05 6.14302373e-01 8.71381148e-01]\n",
      "  [1.60592194e-05 6.14302373e-01 8.71381148e-01]]]\n"
     ]
    }
   ],
   "source": [
    "print(d**2)"
   ]
  },
  {
   "cell_type": "code",
   "execution_count": 13,
   "metadata": {},
   "outputs": [],
   "source": [
    "r = (d**2).sum(2)"
   ]
  },
  {
   "cell_type": "code",
   "execution_count": 14,
   "metadata": {},
   "outputs": [
    {
     "name": "stdout",
     "output_type": "stream",
     "text": [
      "[[0.79402959 0.79402959 0.79402959]\n",
      " [0.57460472 0.57460472 0.57460472]\n",
      " [1.48569958 1.48569958 1.48569958]]\n"
     ]
    }
   ],
   "source": [
    "print(r)"
   ]
  },
  {
   "cell_type": "code",
   "execution_count": 15,
   "metadata": {},
   "outputs": [
    {
     "data": {
      "text/plain": [
       "array([0.79402959, 0.79402959, 0.57460472])"
      ]
     },
     "execution_count": 15,
     "metadata": {},
     "output_type": "execute_result"
    },
    {
     "ename": "",
     "evalue": "",
     "output_type": "error",
     "traceback": [
      "\u001b[1;31mThe Kernel crashed while executing code in the the current cell or a previous cell. Please review the code in the cell(s) to identify a possible cause of the failure. Click <a href='https://aka.ms/vscodeJupyterKernelCrash'>here</a> for more info. View Jupyter <a href='command:jupyter.viewOutput'>log</a> for further details."
     ]
    }
   ],
   "source": [
    "r[np.triu_indices_from(r,1)]"
   ]
  },
  {
   "cell_type": "code",
   "execution_count": null,
   "metadata": {},
   "outputs": [],
   "source": []
  }
 ],
 "metadata": {
  "kernelspec": {
   "display_name": "Python 3",
   "language": "python",
   "name": "python3"
  },
  "language_info": {
   "codemirror_mode": {
    "name": "ipython",
    "version": 3
   },
   "file_extension": ".py",
   "mimetype": "text/x-python",
   "name": "python",
   "nbconvert_exporter": "python",
   "pygments_lexer": "ipython3",
   "version": "3.10.13"
  },
  "orig_nbformat": 4
 },
 "nbformat": 4,
 "nbformat_minor": 2
}
