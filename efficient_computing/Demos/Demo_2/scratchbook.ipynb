{
 "cells": [
  {
   "cell_type": "code",
   "execution_count": 27,
   "metadata": {},
   "outputs": [],
   "source": [
    "import numpy as np\n",
    "np.random.seed(3148954390)"
   ]
  },
  {
   "cell_type": "code",
   "execution_count": 28,
   "metadata": {},
   "outputs": [
    {
     "name": "stdout",
     "output_type": "stream",
     "text": [
      "[[0.5750586  0.23533348 0.63871382]\n",
      " [0.20123823 0.02631137 0.73035307]\n",
      " [0.0040074  0.78377444 0.93347798]\n",
      " [0.57735861 0.35279109 0.34026705]]\n"
     ]
    }
   ],
   "source": [
    "arr = np.random.random((4,3))\n",
    "print(arr)"
   ]
  },
  {
   "cell_type": "code",
   "execution_count": 29,
   "metadata": {},
   "outputs": [
    {
     "name": "stdout",
     "output_type": "stream",
     "text": [
      "[[[0.5750586  0.23533348 0.63871382]]\n",
      "\n",
      " [[0.20123823 0.02631137 0.73035307]]\n",
      "\n",
      " [[0.0040074  0.78377444 0.93347798]]\n",
      "\n",
      " [[0.57735861 0.35279109 0.34026705]]]\n",
      "(4, 1, 3)\n",
      "0.23533348028648737\n"
     ]
    }
   ],
   "source": [
    "c = arr[:,np.newaxis,:]\n",
    "print(c)\n",
    "print(c.shape)\n",
    "print(c[0,0,1])"
   ]
  },
  {
   "cell_type": "code",
   "execution_count": 40,
   "metadata": {},
   "outputs": [
    {
     "name": "stdout",
     "output_type": "stream",
     "text": [
      "(4, 4, 3)\n",
      "[[[0.5750586  0.23533348 0.63871382]\n",
      "  [0.5750586  0.23533348 0.63871382]\n",
      "  [0.5750586  0.23533348 0.63871382]\n",
      "  [0.5750586  0.23533348 0.63871382]]\n",
      "\n",
      " [[0.20123823 0.02631137 0.73035307]\n",
      "  [0.20123823 0.02631137 0.73035307]\n",
      "  [0.20123823 0.02631137 0.73035307]\n",
      "  [0.20123823 0.02631137 0.73035307]]\n",
      "\n",
      " [[0.0040074  0.78377444 0.93347798]\n",
      "  [0.0040074  0.78377444 0.93347798]\n",
      "  [0.0040074  0.78377444 0.93347798]\n",
      "  [0.0040074  0.78377444 0.93347798]]\n",
      "\n",
      " [[0.57735861 0.35279109 0.34026705]\n",
      "  [0.57735861 0.35279109 0.34026705]\n",
      "  [0.57735861 0.35279109 0.34026705]\n",
      "  [0.57735861 0.35279109 0.34026705]]]\n"
     ]
    }
   ],
   "source": [
    "d = arr[:,np.newaxis,:]-np.zeros_like(arr)\n",
    "print(d.shape)\n",
    "print(d)"
   ]
  },
  {
   "cell_type": "code",
   "execution_count": 33,
   "metadata": {},
   "outputs": [
    {
     "name": "stdout",
     "output_type": "stream",
     "text": [
      "[[[0.00000000e+00 0.00000000e+00 0.00000000e+00]\n",
      "  [1.39741667e-01 4.36902420e-02 8.39775133e-03]\n",
      "  [3.26099479e-01 3.00787487e-01 8.68859119e-02]\n",
      "  [5.29005152e-06 1.37962907e-02 8.90704774e-02]]\n",
      "\n",
      " [[1.39741667e-01 4.36902420e-02 8.39775133e-03]\n",
      "  [0.00000000e+00 0.00000000e+00 0.00000000e+00]\n",
      "  [3.89000032e-02 5.73750301e-01 4.12597321e-02]\n",
      "  [1.41466539e-01 1.06589008e-01 1.52167103e-01]]\n",
      "\n",
      " [[3.26099479e-01 3.00787487e-01 8.68859119e-02]\n",
      "  [3.89000032e-02 5.73750301e-01 4.12597321e-02]\n",
      "  [0.00000000e+00 0.00000000e+00 0.00000000e+00]\n",
      "  [3.28731617e-01 1.85746646e-01 3.51899217e-01]]\n",
      "\n",
      " [[5.29005152e-06 1.37962907e-02 8.90704774e-02]\n",
      "  [1.41466539e-01 1.06589008e-01 1.52167103e-01]\n",
      "  [3.28731617e-01 1.85746646e-01 3.51899217e-01]\n",
      "  [0.00000000e+00 0.00000000e+00 0.00000000e+00]]]\n"
     ]
    }
   ],
   "source": [
    "print(d**2)"
   ]
  },
  {
   "cell_type": "code",
   "execution_count": 37,
   "metadata": {},
   "outputs": [],
   "source": [
    "r = (d**2).sum(2)"
   ]
  },
  {
   "cell_type": "code",
   "execution_count": 38,
   "metadata": {},
   "outputs": [
    {
     "name": "stdout",
     "output_type": "stream",
     "text": [
      "[[0.         0.19182966 0.71377288 0.10287206]\n",
      " [0.19182966 0.         0.65391004 0.40022265]\n",
      " [0.71377288 0.65391004 0.         0.86637748]\n",
      " [0.10287206 0.40022265 0.86637748 0.        ]]\n"
     ]
    }
   ],
   "source": [
    "print(r)"
   ]
  },
  {
   "cell_type": "code",
   "execution_count": 39,
   "metadata": {},
   "outputs": [
    {
     "data": {
      "text/plain": [
       "array([0.19182966, 0.71377288, 0.10287206, 0.65391004, 0.40022265,\n",
       "       0.86637748])"
      ]
     },
     "execution_count": 39,
     "metadata": {},
     "output_type": "execute_result"
    }
   ],
   "source": [
    "r[np.triu_indices_from(r,1)]"
   ]
  },
  {
   "cell_type": "code",
   "execution_count": null,
   "metadata": {},
   "outputs": [],
   "source": []
  }
 ],
 "metadata": {
  "kernelspec": {
   "display_name": "Python 3",
   "language": "python",
   "name": "python3"
  },
  "language_info": {
   "codemirror_mode": {
    "name": "ipython",
    "version": 3
   },
   "file_extension": ".py",
   "mimetype": "text/x-python",
   "name": "python",
   "nbconvert_exporter": "python",
   "pygments_lexer": "ipython3",
   "version": "3.10.13"
  },
  "orig_nbformat": 4
 },
 "nbformat": 4,
 "nbformat_minor": 2
}
