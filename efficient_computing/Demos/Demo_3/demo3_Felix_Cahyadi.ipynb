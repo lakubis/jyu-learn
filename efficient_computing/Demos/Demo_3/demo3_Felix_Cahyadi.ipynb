{
 "cells": [
  {
   "cell_type": "markdown",
   "metadata": {},
   "source": [
    "# FYSS5120 Efficient Numerical Programming - Demo 3\n",
    "\n",
    "Author: Felix Cahyadi\n",
    "\n",
    "Creation date: 26.09.2023\n",
    "\n",
    "Last changes: 27.09.2023 23:54"
   ]
  },
  {
   "cell_type": "markdown",
   "metadata": {},
   "source": [
    "### Problem 1: Study the program aitken_accelerate.py, which applies Aitken’s $\\Delta^2$ acceleration to two series, which slowly converge to $\\pi/4$ and $\\pi^2/6$, respectively. Answer the questions:"
   ]
  },
  {
   "cell_type": "code",
   "execution_count": 1,
   "metadata": {},
   "outputs": [],
   "source": [
    "# Define simplified function\n",
    "import itertools\n",
    "def test():\n",
    "    for i in itertools.cycle([1,-1]):\n",
    "        yield i"
   ]
  },
  {
   "cell_type": "markdown",
   "metadata": {},
   "source": [
    "Part 1, why does the generator produce the wrong sequence in one case, but right in another?"
   ]
  },
  {
   "cell_type": "markdown",
   "metadata": {},
   "source": [
    "To answer that, we create 3 test cases, the first and second are similar to the one in demo. In the third one, we assign the generator to variables multiple times"
   ]
  },
  {
   "cell_type": "code",
   "execution_count": 2,
   "metadata": {},
   "outputs": [
    {
     "name": "stdout",
     "output_type": "stream",
     "text": [
      "1st test case\n",
      "1\n",
      "<generator object test at 0x000001E01CDD4740>\n",
      "1\n",
      "<generator object test at 0x000001E01CDD4740>\n",
      "1\n",
      "<generator object test at 0x000001E01CDD4740>\n",
      "--------------------------------------------------\n",
      "2nd test case\n",
      "<generator object test at 0x000001E01CDD4890>\n",
      "1\n",
      "<generator object test at 0x000001E01CDD4890>\n",
      "-1\n",
      "<generator object test at 0x000001E01CDD4890>\n",
      "1\n",
      "--------------------------------------------------\n",
      "3rd test case\n",
      "1\n",
      "<generator object test at 0x000001E01CDD4970>\n",
      "1\n",
      "<generator object test at 0x000001E01CDD49E0>\n",
      "1\n",
      "<generator object test at 0x000001E01CDD4A50>\n",
      "--------------------------------------------------\n"
     ]
    }
   ],
   "source": [
    "# This is the first case\n",
    "print('1st test case')\n",
    "print(next(test()))\n",
    "print(test())\n",
    "print(next(test()))\n",
    "print(test())\n",
    "print(next(test()))\n",
    "print(test())\n",
    "print(50*'-')\n",
    "\n",
    "# This is the second case\n",
    "print('2nd test case')\n",
    "tt = test()\n",
    "print(tt)\n",
    "print(next(tt))\n",
    "print(tt)\n",
    "print(next(tt))\n",
    "print(tt)\n",
    "print(next(tt))\n",
    "print(50*'-')\n",
    "\n",
    "# Create an extra test case\n",
    "print('3rd test case')\n",
    "tt1 = test()\n",
    "print(next(tt1))\n",
    "print(tt1)\n",
    "tt2 = test()\n",
    "print(next(tt2))\n",
    "print(tt2)\n",
    "tt3 = test()\n",
    "print(next(tt3))\n",
    "print(tt3)\n",
    "print(50*'-')\n"
   ]
  },
  {
   "cell_type": "markdown",
   "metadata": {},
   "source": [
    "Conclusion: From the 3 test cases, only the second case produce the correct sequence. It is because we are able to keep the state of the generator, and request for the next state.\n",
    "\n",
    "We are not able to do that in the first and the third test case. In the third case, it's obvious that the generator can't keep its state because we keep defining a new generator, as we can see from the different memory address. While in the first case, although it has the same memory address, the generator can't keep its state because we keep redefining it each time, so it keeps giving the 1st element of the sequence. "
   ]
  },
  {
   "cell_type": "markdown",
   "metadata": {},
   "source": [
    "Part 2: What does itertools.islice(leibnitz_pi(),N)) do ? How would\n",
    "you write that as a plain for-loop?"
   ]
  },
  {
   "cell_type": "markdown",
   "metadata": {},
   "source": [
    "We'll copy the functions here"
   ]
  },
  {
   "cell_type": "code",
   "execution_count": 3,
   "metadata": {},
   "outputs": [],
   "source": [
    "import itertools\n",
    "\n",
    "def aitken(seq):\n",
    "    \"\"\" \n",
    "    apply Aitken's method to sequence seq with terms {s_i}\n",
    "     s_i' = s_i - (s_i+1 - s_i)^2/(s_i+2 - 2 s_i+1 + s_i)\n",
    "    \"\"\"\n",
    "    s_i   = next(seq)  \n",
    "    s_ip1 = next(seq)  \n",
    "    s_ip2 = next(seq) \n",
    "    while True:\n",
    "        yield s_i - (s_ip1 - s_i)**2/(s_ip2 - 2*s_ip1 + s_i)\n",
    "        s_i, s_ip1, s_ip2 = s_ip1, s_ip2, next(seq)\n",
    "\n",
    "\n",
    "def leibnitz_pi():\n",
    "    \"\"\"\n",
    "    Leibnitz formula\n",
    "     pi/4 = sum_k=0^inf (-1)**k/(2k+1)\n",
    "    the partial sum is \n",
    "     s_N = sum_k=0^N (-1)**k/(2k+1)\n",
    "    \"\"\"\n",
    "    sN = 0\n",
    "    j = 1\n",
    "    for i in itertools.cycle([1,-1]):\n",
    "        yield sN\n",
    "        sN += i/j\n",
    "        j  += 2\n",
    "\n",
    "def pi2_over_six():\n",
    "    \"\"\"\n",
    "     pi^2/6 = sum_k=1^inf 1/k^2\n",
    "    the partial sum is \n",
    "     s_N = sum_k=1^N 1/k^2\n",
    "    \"\"\"\n",
    "    sN = 1\n",
    "    k = 1\n",
    "    while True:\n",
    "        yield sN\n",
    "        k += 1\n",
    "        sN += 1/k**2       \n",
    "\n"
   ]
  },
  {
   "cell_type": "markdown",
   "metadata": {},
   "source": [
    "We know that the function leibnitz_pi() is a generator, and itertools.islice will return an iterator.\n",
    "\n",
    "Hence, when we are calling itertools.islice(leibnitz_pi(),N), $N$ acts as the stop value. islice is extracting the first $N$ values from leibnitz_pi() and turn it into iterator. From there, we can use the list(iterator) to turn the iterator into a list"
   ]
  },
  {
   "cell_type": "code",
   "execution_count": 4,
   "metadata": {},
   "outputs": [
    {
     "name": "stdout",
     "output_type": "stream",
     "text": [
      "<itertools.islice object at 0x000001E01CDF1C60>\n"
     ]
    }
   ],
   "source": [
    "N = 10\n",
    "    \n",
    "leibnitz_iter = itertools.islice(leibnitz_pi(),N)\n",
    "print(leibnitz_iter) #itertools.islice object"
   ]
  },
  {
   "cell_type": "markdown",
   "metadata": {},
   "source": [
    "We can demonstrate that it is an iterator using the code below:"
   ]
  },
  {
   "cell_type": "code",
   "execution_count": 5,
   "metadata": {},
   "outputs": [
    {
     "name": "stdout",
     "output_type": "stream",
     "text": [
      "0\n",
      "1.0\n",
      "0.6666666666666667\n",
      "0.8666666666666667\n",
      "0.7238095238095239\n",
      "0.8349206349206351\n",
      "0.7440115440115441\n",
      "0.8209346209346211\n",
      "0.7542679542679545\n",
      "0.8130914836797192\n"
     ]
    }
   ],
   "source": [
    "for leib in leibnitz_iter:\n",
    "    print(leib)"
   ]
  },
  {
   "cell_type": "markdown",
   "metadata": {},
   "source": [
    "Next, I'm going to write itertools.islice(leibnitz_pi(),N) as a plain for loop. Here, the idea is to use list comprehension, and then use iter() to turn it into iterables.\n",
    "\n",
    "To limit the number of elements to $N$, we are going to use zip(range(N),leibnitz_pi())\n",
    "\n",
    "After that, we are going to iterate it, and only taking the element for the list comprehension."
   ]
  },
  {
   "cell_type": "code",
   "execution_count": 6,
   "metadata": {},
   "outputs": [
    {
     "name": "stdout",
     "output_type": "stream",
     "text": [
      "<list_iterator object at 0x000001E01CDB2C50>\n"
     ]
    }
   ],
   "source": [
    "# Using list comprehension\n",
    "manual_iter = iter([elem for i,elem in zip(range(N),leibnitz_pi())])\n",
    "print(manual_iter)"
   ]
  },
  {
   "cell_type": "code",
   "execution_count": 7,
   "metadata": {},
   "outputs": [
    {
     "name": "stdout",
     "output_type": "stream",
     "text": [
      "0\n",
      "1.0\n",
      "0.6666666666666667\n",
      "0.8666666666666667\n",
      "0.7238095238095239\n",
      "0.8349206349206351\n",
      "0.7440115440115441\n",
      "0.8209346209346211\n",
      "0.7542679542679545\n",
      "0.8130914836797192\n"
     ]
    }
   ],
   "source": [
    "# Test manual_iter\n",
    "for maniter in manual_iter:\n",
    "    print(maniter)"
   ]
  },
  {
   "cell_type": "markdown",
   "metadata": {},
   "source": [
    "Or in a more traditional for loop"
   ]
  },
  {
   "cell_type": "code",
   "execution_count": 8,
   "metadata": {},
   "outputs": [
    {
     "name": "stdout",
     "output_type": "stream",
     "text": [
      "[0, 1.0, 0.6666666666666667, 0.8666666666666667, 0.7238095238095239, 0.8349206349206351, 0.7440115440115441, 0.8209346209346211, 0.7542679542679545, 0.8130914836797192]\n"
     ]
    }
   ],
   "source": [
    "manual_list = []\n",
    "leib_gen = leibnitz_pi() # Define the generator\n",
    "for i in range(N):\n",
    "    manual_list.append(next(leib_gen)) # Append the values\n",
    "\n",
    "print(manual_list) # We can turn it into a generator if we want"
   ]
  },
  {
   "cell_type": "markdown",
   "metadata": {},
   "source": [
    "Part 3: How does the function aitken(seq) work?"
   ]
  },
  {
   "cell_type": "markdown",
   "metadata": {},
   "source": [
    "Let's look into their output"
   ]
  },
  {
   "cell_type": "code",
   "execution_count": 9,
   "metadata": {},
   "outputs": [
    {
     "name": "stdout",
     "output_type": "stream",
     "text": [
      "[0, 1.0, 0.6666666666666667, 0.8666666666666667, 0.7238095238095239, 0.8349206349206351, 0.7440115440115441, 0.8209346209346211, 0.7542679542679545, 0.8130914836797192, 0.7604599047323508, 0.8080789523513985, 0.7646006914818333, 0.8046006914818333, 0.7675636544447964, 0.802046413065486, 0.769788348549357, 0.8000913788523872, 0.7715199502809587, 0.7985469773079856, 0.77290595166696, 0.797296195569399, 0.7740403816159106, 0.7962626038381329, 0.774986008093452, 0.7953941713587581, 0.7757863282215032, 0.7946542527498051, 0.7764724345679869, 0.7940162942171096, 0.7770671416747368, 0.7934605842976876, 0.7775875684246718, 0.7929721838092871, 0.7780468106749587, 0.7925395642981471, 0.7784550572558936, 0.7921536873928798, 0.7788203540595465, 0.7918073670465595, 0.7791491391984583, 0.7914948182108039, 0.7794466254397195, 0.7912113313220724, 0.7797170784485092, 0.790953033504689, 0.7799640225156781, 0.7907167106877211, 0.7801903948982474, 0.7904996732487628]\n",
      "[0.75, 0.7916666666666667, 0.7833333333333334, 0.7863095238095239, 0.784920634920635, 0.7856782106782109, 0.7852203352203354, 0.7855179542679545, 0.7853137059019414, 0.7854599047323508, 0.7853516796241258, 0.7854340248151667, 0.7853699222510641, 0.7854207973019391, 0.7853797463988194, 0.785413348549357, 0.7853854964994461, 0.7854088391698475, 0.7853890825711435, 0.78540595166696, 0.785391433664637, 0.785404017979547, 0.7853930386207415, 0.7854026747601186, 0.7853941713587581, 0.7854017128368878, 0.7853949934905458, 0.7854010059965583, 0.7853956045619372, 0.7854004750080701, 0.7853960681686554, 0.7854000684246718, 0.7853964262335296, 0.7853997518514293, 0.78539670715529, 0.785399501700338, 0.7853969306361231, 0.7853993014279675, 0.7853971106363031, 0.7853991391984583, 0.7853972572351942, 0.7853990063921005, 0.7853973778337003, 0.7853988966303275, 0.7853974779491335, 0.7853988051243738, 0.7853975617515508, 0.7853987282315807, 0.7853976324324363, 0.7853986631477528]\n"
     ]
    }
   ],
   "source": [
    "N2 = 50\n",
    "\n",
    "res_lei = list(itertools.islice(leibnitz_pi(),N2))\n",
    "res_ait = list(itertools.islice(aitken(leibnitz_pi()),N2))\n",
    "print(res_lei)\n",
    "print(res_ait)"
   ]
  },
  {
   "cell_type": "markdown",
   "metadata": {},
   "source": [
    "As we can see, the Aitken's method accelerates the convergence of the series by replacing the terms $s_i$. I'm going to comment on each line of aitken(seq) below to explain how it works. It's creating another generator"
   ]
  },
  {
   "cell_type": "code",
   "execution_count": 10,
   "metadata": {},
   "outputs": [],
   "source": [
    "def aitken(seq):\n",
    "    \"\"\" \n",
    "    apply Aitken's method to sequence seq with terms {s_i}\n",
    "     s_i' = s_i - (s_i+1 - s_i)^2/(s_i+2 - 2 s_i+1 + s_i)\n",
    "    \"\"\"\n",
    "    s_i   = next(seq) # At first, get the first 3 elements from generator seq\n",
    "    s_ip1 = next(seq) # Second element \n",
    "    s_ip2 = next(seq) # Third element\n",
    "    while True:\n",
    "        yield s_i - (s_ip1 - s_i)**2/(s_ip2 - 2*s_ip1 + s_i) # Yield the calculated value for the new sequence\n",
    "        s_i, s_ip1, s_ip2 = s_ip1, s_ip2, next(seq) # Rearranging the value of the variables for the next calculation, and acquiring the next element from seq"
   ]
  },
  {
   "cell_type": "markdown",
   "metadata": {},
   "source": [
    "### The code demo3_heat_animation.py animates heat flow under the assumption that the temperature of every element is the average of its own temperature and of elements next to it, while keeping the outer edges at fixed temperature. That makes 5 elements to average over. Answer the questions:"
   ]
  },
  {
   "cell_type": "markdown",
   "metadata": {},
   "source": [
    "Part 1: The method step() does one step of heat flow, and it’s the most\n",
    "important part of the code. Please explain how it works, even without\n",
    "any for-loops?"
   ]
  },
  {
   "cell_type": "markdown",
   "metadata": {},
   "source": [
    "Firstly, we know that the attribute self.heat_map is defined by an np.array, where each element denotes the temperature at each node. Because of that, we can extract the nodes that we needed, and then average them by summing the arrays."
   ]
  },
  {
   "cell_type": "code",
   "execution_count": 11,
   "metadata": {},
   "outputs": [
    {
     "data": {
      "text/plain": [
       "'\\ndef step(self):        \\n        mid    = self.heat_map[1:-1,1:-1] # Acquire the nodes in the middle of the graph, starting from the second row to the second last row, and second column to the last second column\\n\\n        above  = self.heat_map[:-2,1:-1] # Similar to mid, but shift one row up, so we start from the first row and ends at the third last row.\\n\\n        below  = self.heat_map[2:,1:-1] # Similar to mid, but shift one row down\\n\\n        right  = self.heat_map[1:-1,:-2] # Similar to mid, but shift one column to the right\\n\\n        left   = self.heat_map[1:-1,2:] # Similar to mid, but shift one column to the left\\n\\n        mid[:] = (mid+above+below+left+right)/5 # Sum the arrays together and take the average\\n        \\n        return mid\\n'"
      ]
     },
     "execution_count": 11,
     "metadata": {},
     "output_type": "execute_result"
    }
   ],
   "source": [
    "# For annotation\n",
    "\n",
    "'''\n",
    "def step(self):        \n",
    "        mid    = self.heat_map[1:-1,1:-1] # Acquire the nodes in the middle of the graph, starting from the second row to the second last row, and second column to the last second column\n",
    "\n",
    "        above  = self.heat_map[:-2,1:-1] # Similar to mid, but shift one row up, so we start from the first row and ends at the third last row.\n",
    "\n",
    "        below  = self.heat_map[2:,1:-1] # Similar to mid, but shift one row down\n",
    "\n",
    "        right  = self.heat_map[1:-1,:-2] # Similar to mid, but shift one column to the right\n",
    "\n",
    "        left   = self.heat_map[1:-1,2:] # Similar to mid, but shift one column to the left\n",
    "\n",
    "        mid[:] = (mid+above+below+left+right)/5 # Sum the arrays together and take the average\n",
    "        \n",
    "        return mid\n",
    "'''"
   ]
  },
  {
   "cell_type": "markdown",
   "metadata": {},
   "source": [
    "In my opinion, the right should be 'right = self.heat_map[1:-1, 2:]' and the left should be 'left   = self.heat_map[1:-1,:-2]' instead.\n",
    "\n",
    "The averaging makes everything okay though, since it produces the same effect"
   ]
  },
  {
   "cell_type": "markdown",
   "metadata": {},
   "source": [
    "Part 2: Why should it be mid[:] = (mid+above+below+left+right)/5? Why doesn't mid = (mid+above+below+left+right)/5 work as intended?"
   ]
  },
  {
   "cell_type": "markdown",
   "metadata": {},
   "source": [
    "Let's test this with the the modified Heat2D class, I added some print function in it"
   ]
  },
  {
   "cell_type": "code",
   "execution_count": 12,
   "metadata": {},
   "outputs": [],
   "source": [
    "import numpy as np\n",
    "\n",
    "class Heat2D:\n",
    "    def __init__(self, height, width):\n",
    "        # index order in heat_map is [y,x] to make matshow show it correctly\n",
    "        self.heat_map = np.zeros((height+2,width+2),dtype=np.float64)\n",
    "        self.heat_map[:] = 100.0 # initial temperature\n",
    "        # dip to very cold environment, top stays at room temperature\n",
    "        self.heat_map[:,0]  = -196.00\n",
    "        self.heat_map[:,-1] = -196.00\n",
    "        self.heat_map[-1,:] = -196.00\n",
    "        self.heat_map[0,:]  = 22.0  \n",
    "    \n",
    "    def step(self):\n",
    "        mid    = self.heat_map[1:-1,1:-1]\n",
    "        print(\"This is the id before averaging: \", id(mid)) # Added print function\n",
    "        above  = self.heat_map[:-2,1:-1]\n",
    "        below  = self.heat_map[2:,1:-1]\n",
    "        right  = self.heat_map[1:-1,:-2]\n",
    "        left   = self.heat_map[1:-1,2:]\n",
    "        mid[:] = (mid+above+below+left+right)/5\n",
    "        print(\"This is the id after averaging: \",id(mid)) # Added print function\n",
    "        return mid\n",
    "    \n",
    "mat = Heat2D(3,3)"
   ]
  },
  {
   "cell_type": "code",
   "execution_count": 13,
   "metadata": {},
   "outputs": [
    {
     "name": "stdout",
     "output_type": "stream",
     "text": [
      "This is the id before averaging:  2062441444912\n",
      "This is the id after averaging:  2062441444912\n",
      "This is the id before averaging:  2062441444912\n",
      "This is the id after averaging:  2062441444912\n",
      "This is the id before averaging:  2062441444912\n",
      "This is the id after averaging:  2062441444912\n",
      "This is the id before averaging:  2062441444912\n",
      "This is the id after averaging:  2062441444912\n",
      "This is the id before averaging:  2062441444912\n",
      "This is the id after averaging:  2062441444912\n"
     ]
    }
   ],
   "source": [
    "for i in range(5):\n",
    "    mat.step()"
   ]
  },
  {
   "cell_type": "markdown",
   "metadata": {},
   "source": [
    "As we can see, the id of mid is always the same, this is because by using mid[:], we assign the value to the same array in the computer's memory. Here's what happens:\n",
    "* mid = self.heat_map[1:-1,1:-1] initialize the array with the value from self.heat_map\n",
    "* mid[:] = (mid+above+below+left+right)/5 assigns the value of the average to the mid, which in turns updates the value of self.heat_map[1:-1,1:-1]\n",
    "\n",
    "And it repeats again, it is similar to what happens in the example below"
   ]
  },
  {
   "cell_type": "code",
   "execution_count": 14,
   "metadata": {},
   "outputs": [
    {
     "name": "stdout",
     "output_type": "stream",
     "text": [
      "[[100.   2.   3.]\n",
      " [100.   5.   6.]\n",
      " [100.   8.   9.]]\n"
     ]
    }
   ],
   "source": [
    "arr1 = np.array([[1,2,3],[4,5,6],[7,8,9]],dtype=np.float64) # Create an array\n",
    "arr2 = arr1[:,0] # refer parts of the array as arr2\n",
    "arr2[:] = np.array([100,100,100]) # assign new value\n",
    "print(arr1) # The original array now changes in value"
   ]
  },
  {
   "cell_type": "markdown",
   "metadata": {},
   "source": [
    "Now, we will create the class Heat2D_test, where we changed mid[:] to mid"
   ]
  },
  {
   "cell_type": "code",
   "execution_count": 15,
   "metadata": {},
   "outputs": [],
   "source": [
    "class Heat2D_test:\n",
    "    def __init__(self, height, width):\n",
    "        # index order in heat_map is [y,x] to make matshow show it correctly\n",
    "        self.heat_map = np.zeros((height+2,width+2),dtype=np.float64)\n",
    "        self.heat_map[:] = 100.0 # initial temperature\n",
    "        # dip to very cold environment, top stays at room temperature\n",
    "        self.heat_map[:,0]  = -196.00\n",
    "        self.heat_map[:,-1] = -196.00\n",
    "        self.heat_map[-1,:] = -196.00\n",
    "        self.heat_map[0,:]  = 22.0  \n",
    "    \n",
    "    def step(self):        \n",
    "        mid    = self.heat_map[1:-1,1:-1]\n",
    "        print(\"This is the id before averaging: \", id(mid))\n",
    "        above  = self.heat_map[:-2,1:-1]\n",
    "        below  = self.heat_map[2:,1:-1]\n",
    "        right  = self.heat_map[1:-1,:-2]\n",
    "        left   = self.heat_map[1:-1,2:]\n",
    "        mid = (mid+above+below+left+right)/5 # I changed mid[:] to mid\n",
    "        print(\"This is the id after averaging: \", id(mid))\n",
    "\n",
    "        return mid\n",
    "    \n",
    "mat_test = Heat2D_test(200,200)"
   ]
  },
  {
   "cell_type": "code",
   "execution_count": 16,
   "metadata": {},
   "outputs": [
    {
     "name": "stdout",
     "output_type": "stream",
     "text": [
      "This is the id before averaging:  2062441445104\n",
      "This is the id after averaging:  2062441447312\n",
      "This is the id before averaging:  2062441447312\n",
      "This is the id after averaging:  2062441445104\n",
      "This is the id before averaging:  2062441445104\n",
      "This is the id after averaging:  2062441447312\n",
      "This is the id before averaging:  2062441447312\n",
      "This is the id after averaging:  2062441445104\n",
      "This is the id before averaging:  2062441445104\n",
      "This is the id after averaging:  2062441447312\n"
     ]
    }
   ],
   "source": [
    "for i in range(5):\n",
    "    mat_test.step()"
   ]
  },
  {
   "cell_type": "markdown",
   "metadata": {},
   "source": [
    "As we can see, the id keeps changing, it's because when we do mid = (mid+above+below+left+right)/5, we make the variable mid refers to the new array instead. Here's what happens:\n",
    "* mid = self.heat_map[1:-1,1:-1] initialize the array with the value from self.heat_map\n",
    "* mid = (mid+above+below+left+right)/5, mid now refers to another thing, self.heat_map remains unchanged\n",
    "\n",
    "self.heat_map doesn't change now matter how many times we iterate"
   ]
  }
 ],
 "metadata": {
  "kernelspec": {
   "display_name": "Python 3",
   "language": "python",
   "name": "python3"
  },
  "language_info": {
   "codemirror_mode": {
    "name": "ipython",
    "version": 3
   },
   "file_extension": ".py",
   "mimetype": "text/x-python",
   "name": "python",
   "nbconvert_exporter": "python",
   "pygments_lexer": "ipython3",
   "version": "3.10.13"
  },
  "orig_nbformat": 4
 },
 "nbformat": 4,
 "nbformat_minor": 2
}
