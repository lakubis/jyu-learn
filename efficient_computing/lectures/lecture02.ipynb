{
 "cells": [
  {
   "cell_type": "markdown",
   "metadata": {},
   "source": [
    "We will try multiplying number with Python array, it won't broadcast the value. Instead, it makes copies of the array elements."
   ]
  },
  {
   "cell_type": "markdown",
   "metadata": {},
   "source": [
    "$$H\\psi = E\\psi$$"
   ]
  },
  {
   "cell_type": "code",
   "execution_count": 3,
   "metadata": {},
   "outputs": [],
   "source": [
    "import random\n",
    "import string"
   ]
  },
  {
   "cell_type": "code",
   "execution_count": 1,
   "metadata": {},
   "outputs": [
    {
     "data": {
      "text/plain": [
       "[1, 2, 1, 2, 1, 2, 1, 2, 1, 2, 1, 2]"
      ]
     },
     "execution_count": 1,
     "metadata": {},
     "output_type": "execute_result"
    }
   ],
   "source": [
    "6*[1,2]"
   ]
  },
  {
   "cell_type": "code",
   "execution_count": 6,
   "metadata": {},
   "outputs": [
    {
     "data": {
      "text/plain": [
       "'byojllkhqm'"
      ]
     },
     "execution_count": 6,
     "metadata": {},
     "output_type": "execute_result"
    }
   ],
   "source": [
    "N = 10\n",
    "s = ''.join(random.choices(string.ascii_lowercase, k=N))\n",
    "s"
   ]
  },
  {
   "cell_type": "code",
   "execution_count": 12,
   "metadata": {},
   "outputs": [
    {
     "name": "stdout",
     "output_type": "stream",
     "text": [
      "<class 'set'>\n",
      "{0, 1, 64, 4, 36, 9, 16, 49, 81, 25}\n"
     ]
    }
   ],
   "source": [
    "# Testing data type\n",
    "what = {_**2 for _ in range(10)}\n",
    "print(type(what))\n",
    "print(what)"
   ]
  },
  {
   "cell_type": "code",
   "execution_count": 14,
   "metadata": {},
   "outputs": [
    {
     "name": "stdout",
     "output_type": "stream",
     "text": [
      "list to sort:\n",
      " ['gnwigmtuoo', 'tpa', 'hdsfwgg', 'gwv', 'luujdlevcp', 'pttgqiinfxhns', 'b', 'rupxqdg', 'q', 'boqshxvnove']\n",
      "list, sorted in increasing length:\n",
      " ['b', 'q', 'tpa', 'gwv', 'hdsfwgg', 'rupxqdg', 'gnwigmtuoo', 'luujdlevcp', 'boqshxvnove', 'pttgqiinfxhns']\n"
     ]
    }
   ],
   "source": [
    "import random\n",
    "import string\n",
    "# list of random ascii letters of random length\n",
    "N = 10\n",
    "lenlist = (int(random.random()*20)+1 for i in range(N))\n",
    "gibberish = [''.join(random.choices(string.ascii_lowercase, k=kk)) for kk in lenlist]\n",
    "print('list to sort:\\n',gibberish)\n",
    "# sorting:\n",
    "gibberish.sort(key=len)\n",
    "#\n",
    "print('list, sorted in increasing length:\\n',gibberish)"
   ]
  },
  {
   "cell_type": "code",
   "execution_count": 15,
   "metadata": {},
   "outputs": [
    {
     "name": "stdout",
     "output_type": "stream",
     "text": [
      "unsorted:\n",
      " [(1, 4, 5), (1, 4, 4), (1, 4, 6), (1, 4, 8), (1, 4, 3), (1, 4, 1), (1, 4, 9), (1, 5, 5), (1, 5, 4), (1, 5, 6), (1, 5, 8), (1, 5, 3), (1, 5, 1), (1, 5, 9), (1, 2, 5), (1, 2, 4), (1, 2, 6), (1, 2, 8), (1, 2, 3), (1, 2, 1), (1, 2, 9), (2, 4, 5), (2, 4, 4), (2, 4, 6), (2, 4, 8), (2, 4, 3), (2, 4, 1), (2, 4, 9), (2, 5, 5), (2, 5, 4), (2, 5, 6), (2, 5, 8), (2, 5, 3), (2, 5, 1), (2, 5, 9), (2, 2, 5), (2, 2, 4), (2, 2, 6), (2, 2, 8), (2, 2, 3), (2, 2, 1), (2, 2, 9), (3, 4, 5), (3, 4, 4), (3, 4, 6), (3, 4, 8), (3, 4, 3), (3, 4, 1), (3, 4, 9), (3, 5, 5), (3, 5, 4), (3, 5, 6), (3, 5, 8), (3, 5, 3), (3, 5, 1), (3, 5, 9), (3, 2, 5), (3, 2, 4), (3, 2, 6), (3, 2, 8), (3, 2, 3), (3, 2, 1), (3, 2, 9)]\n",
      "sorted\n",
      " [(1, 4, 1), (1, 5, 1), (1, 2, 1), (2, 4, 1), (2, 5, 1), (2, 2, 1), (3, 4, 1), (3, 5, 1), (3, 2, 1), (1, 4, 3), (1, 5, 3), (1, 2, 3), (2, 4, 3), (2, 5, 3), (2, 2, 3), (3, 4, 3), (3, 5, 3), (3, 2, 3), (1, 4, 4), (1, 5, 4), (1, 2, 4), (2, 4, 4), (2, 5, 4), (2, 2, 4), (3, 4, 4), (3, 5, 4), (3, 2, 4), (1, 4, 5), (1, 5, 5), (1, 2, 5), (2, 4, 5), (2, 5, 5), (2, 2, 5), (3, 4, 5), (3, 5, 5), (3, 2, 5), (1, 4, 6), (1, 5, 6), (1, 2, 6), (2, 4, 6), (2, 5, 6), (2, 2, 6), (3, 4, 6), (3, 5, 6), (3, 2, 6), (1, 4, 8), (1, 5, 8), (1, 2, 8), (2, 4, 8), (2, 5, 8), (2, 2, 8), (3, 4, 8), (3, 5, 8), (3, 2, 8), (1, 4, 9), (1, 5, 9), (1, 2, 9), (2, 4, 9), (2, 5, 9), (2, 2, 9), (3, 4, 9), (3, 5, 9), (3, 2, 9)]\n",
      "sorted\n",
      " [(1, 4, 1), (1, 5, 1), (1, 2, 1), (2, 4, 1), (2, 5, 1), (2, 2, 1), (3, 4, 1), (3, 5, 1), (3, 2, 1), (1, 4, 3), (1, 5, 3), (1, 2, 3), (2, 4, 3), (2, 5, 3), (2, 2, 3), (3, 4, 3), (3, 5, 3), (3, 2, 3), (1, 4, 4), (1, 5, 4), (1, 2, 4), (2, 4, 4), (2, 5, 4), (2, 2, 4), (3, 4, 4), (3, 5, 4), (3, 2, 4), (1, 4, 5), (1, 5, 5), (1, 2, 5), (2, 4, 5), (2, 5, 5), (2, 2, 5), (3, 4, 5), (3, 5, 5), (3, 2, 5), (1, 4, 6), (1, 5, 6), (1, 2, 6), (2, 4, 6), (2, 5, 6), (2, 2, 6), (3, 4, 6), (3, 5, 6), (3, 2, 6), (1, 4, 8), (1, 5, 8), (1, 2, 8), (2, 4, 8), (2, 5, 8), (2, 2, 8), (3, 4, 8), (3, 5, 8), (3, 2, 8), (1, 4, 9), (1, 5, 9), (1, 2, 9), (2, 4, 9), (2, 5, 9), (2, 2, 9), (3, 4, 9), (3, 5, 9), (3, 2, 9)]\n"
     ]
    }
   ],
   "source": [
    "# list of tuples to sort\n",
    "data = [(x,y,z) for x in [1,2,3] for y in [4,5,2] for z in [5,4,6,8,3,1,9]]\n",
    "print('unsorted:\\n',data)\n",
    "# one way to sort by 3rd element in tuple (that is, by values in z)\n",
    "sdata = sorted(data,key=lambda d: d[2])\n",
    "print('sorted\\n',sdata)\n",
    "# a bit faster way to sort by 3rd element in tuple\n",
    "from operator import itemgetter\n",
    "ssdata = sorted(data,key=itemgetter(2))\n",
    "print('sorted\\n',ssdata)"
   ]
  },
  {
   "cell_type": "code",
   "execution_count": 16,
   "metadata": {},
   "outputs": [
    {
     "name": "stdout",
     "output_type": "stream",
     "text": [
      "42\n"
     ]
    }
   ],
   "source": [
    "a=-80538738812075974\n",
    "b=80435758145817515\n",
    "c=12602123297335631\n",
    "print(a**3+b**3+c**3)"
   ]
  },
  {
   "cell_type": "code",
   "execution_count": 17,
   "metadata": {},
   "outputs": [
    {
     "data": {
      "text/plain": [
       "mpc(real='0.5', imag='14.134725141734694')"
      ]
     },
     "execution_count": 17,
     "metadata": {},
     "output_type": "execute_result"
    }
   ],
   "source": [
    "from mpmath import *\n",
    "findroot(zeta, 0.5+14j)"
   ]
  },
  {
   "cell_type": "code",
   "execution_count": 18,
   "metadata": {},
   "outputs": [
    {
     "name": "stdout",
     "output_type": "stream",
     "text": [
      "Mpmath settings:\n",
      "  mp.prec = 53                [default: 53]\n",
      "  mp.dps = 15                 [default: 15]\n",
      "  mp.trap_complex = False     [default: False]\n",
      "1.23370055013617\n",
      "1.233700550136169749038117515738122165203094482421875\n",
      "Mpmath settings:\n",
      "  mp.prec = 336               [default: 53]\n",
      "  mp.dps = 100                [default: 15]\n",
      "  mp.trap_complex = False     [default: False]\n",
      "1.233700550136169827354311374984518891914212425905098828301668672027505602802400655375278389267013232\n",
      "1.233700550136169827354311374984518891914212425905098828301668672027505602802400655375221675464819029\n"
     ]
    },
    {
     "data": {
      "text/plain": [
       "905098828301668672027505602802400655375221675464819029"
      ]
     },
     "execution_count": 18,
     "metadata": {},
     "output_type": "execute_result"
    }
   ],
   "source": [
    "# 2D integral using quadrature\n",
    "from mpmath import mp\n",
    "# context object\n",
    "print(mp)\n",
    "f = lambda x, y: 1/(1-x**2 * y**2)\n",
    "res = mp.quad(f, [0, 1], [0, 1])\n",
    "print(res)\n",
    "# 1.23370055013617\n",
    "mp.nprint(res,100) # 1.233700550136169749038117515738122165203094482421875\n",
    "# more precision:\n",
    "mp.prec = 120\n",
    "mp.dps=100\n",
    "print(mp)\n",
    "# calculate with better precision:\n",
    "res=mp.quad(f, [0, 1], [0, 1])\n",
    "mp.nprint(res,100)\n",
    "#1.233700550136169827354311374984518891914212425\n",
    "#905098828301668672027505602802400655375278389267013232\n",
    "mp.nprint(mp.pi**2/8,100)\n",
    "#1.233700550136169827354311374984518891914212425\n",
    "#905098828301668672027505602802400655375221675464819029"
   ]
  },
  {
   "cell_type": "code",
   "execution_count": 19,
   "metadata": {},
   "outputs": [
    {
     "ename": "TypeError",
     "evalue": "type() takes 1 or 3 arguments",
     "output_type": "error",
     "traceback": [
      "\u001b[1;31m---------------------------------------------------------------------------\u001b[0m",
      "\u001b[1;31mTypeError\u001b[0m                                 Traceback (most recent call last)",
      "Cell \u001b[1;32mIn[19], line 1\u001b[0m\n\u001b[1;32m----> 1\u001b[0m \u001b[39mtype\u001b[39;49m(mp\u001b[39m.\u001b[39;49mpi\u001b[39m*\u001b[39;49m\u001b[39m*\u001b[39;49m\u001b[39m2\u001b[39;49m\u001b[39m/\u001b[39;49m\u001b[39m8\u001b[39;49m,\u001b[39m100\u001b[39;49m)\n",
      "\u001b[1;31mTypeError\u001b[0m: type() takes 1 or 3 arguments"
     ]
    }
   ],
   "source": []
  }
 ],
 "metadata": {
  "kernelspec": {
   "display_name": "Python 3",
   "language": "python",
   "name": "python3"
  },
  "language_info": {
   "codemirror_mode": {
    "name": "ipython",
    "version": 3
   },
   "file_extension": ".py",
   "mimetype": "text/x-python",
   "name": "python",
   "nbconvert_exporter": "python",
   "pygments_lexer": "ipython3",
   "version": "3.8.17"
  },
  "orig_nbformat": 4
 },
 "nbformat": 4,
 "nbformat_minor": 2
}
