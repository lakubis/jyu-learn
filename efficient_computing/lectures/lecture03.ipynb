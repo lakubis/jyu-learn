{
 "cells": [
  {
   "cell_type": "code",
   "execution_count": 1,
   "metadata": {},
   "outputs": [
    {
     "name": "stdout",
     "output_type": "stream",
     "text": [
      "1\n",
      "4\n",
      "6\n",
      "7\n",
      "8\n",
      "3\n",
      "2\n",
      "4\n",
      "131234134\n"
     ]
    }
   ],
   "source": [
    "def f(*args):\n",
    "    for x in args:\n",
    "        print(x)\n",
    "\n",
    "f(1,4,6,7,8,3,2,'4','131234134')"
   ]
  },
  {
   "cell_type": "code",
   "execution_count": 2,
   "metadata": {},
   "outputs": [],
   "source": [
    "def g(**kwargs):\n",
    "    for key, value in kwargs.items():\n",
    "        print(f'key {key} value {value}')"
   ]
  },
  {
   "cell_type": "code",
   "execution_count": 3,
   "metadata": {},
   "outputs": [
    {
     "name": "stdout",
     "output_type": "stream",
     "text": [
      "key x value 2\n",
      "key y value 13\n",
      "key z value 33\n"
     ]
    }
   ],
   "source": [
    "g(x = 2, y = 13, z = 33)"
   ]
  },
  {
   "cell_type": "code",
   "execution_count": 4,
   "metadata": {},
   "outputs": [
    {
     "name": "stdout",
     "output_type": "stream",
     "text": [
      "[1, 5] [2, 3]\n"
     ]
    }
   ],
   "source": [
    "res = [[1,5],[2,3]]\n",
    "print(*res)"
   ]
  },
  {
   "cell_type": "code",
   "execution_count": 5,
   "metadata": {},
   "outputs": [],
   "source": [
    "import matplotlib.pyplot as plt"
   ]
  },
  {
   "cell_type": "code",
   "execution_count": 6,
   "metadata": {},
   "outputs": [],
   "source": [
    "def fib1(n, *args, _cache = {}):\n",
    "    print(n,_cache)"
   ]
  },
  {
   "cell_type": "code",
   "execution_count": 7,
   "metadata": {},
   "outputs": [],
   "source": [
    "def fib2(n, _cache = {}):\n",
    "    print(n, _cache)"
   ]
  },
  {
   "cell_type": "code",
   "execution_count": 8,
   "metadata": {},
   "outputs": [
    {
     "name": "stdout",
     "output_type": "stream",
     "text": [
      "10 {}\n"
     ]
    }
   ],
   "source": [
    "fib2(10)"
   ]
  },
  {
   "cell_type": "code",
   "execution_count": 9,
   "metadata": {},
   "outputs": [
    {
     "name": "stdout",
     "output_type": "stream",
     "text": [
      "entering  func\n",
      "100\n"
     ]
    }
   ],
   "source": [
    "def mydecorator(any_function):\n",
    "    def wrapper(*args, **kwargs):\n",
    "        print('entering ',any_function.__name__)\n",
    "        return any_function(*args, **kwargs)\n",
    "    return wrapper\n",
    "\n",
    "\n",
    "@mydecorator\n",
    "def func(x):\n",
    "    return x**2\n",
    "\n",
    "\n",
    "if __name__=='__main__':\n",
    "    print(func(10))"
   ]
  },
  {
   "cell_type": "code",
   "execution_count": 10,
   "metadata": {},
   "outputs": [],
   "source": [
    "from time import process_time as T\n",
    "def timer_decorator(any_f):\n",
    "    def wrap(*args, **kwargs):\n",
    "        tic = T()\n",
    "        res = any_f(*args, **kwargs)\n",
    "        toc = T()\n",
    "        print(f'timing: {toc-tic:<.6e}')\n",
    "        return res\n",
    "    return wrap"
   ]
  },
  {
   "cell_type": "code",
   "execution_count": 11,
   "metadata": {},
   "outputs": [],
   "source": [
    "@timer_decorator\n",
    "def func(x):\n",
    "    y = x\n",
    "    for i in range(10000):\n",
    "        y = i*x\n",
    "    return y"
   ]
  },
  {
   "cell_type": "code",
   "execution_count": 12,
   "metadata": {},
   "outputs": [
    {
     "name": "stdout",
     "output_type": "stream",
     "text": [
      "timing: 0.000000e+00\n"
     ]
    },
    {
     "data": {
      "text/plain": [
       "99990000"
      ]
     },
     "execution_count": 12,
     "metadata": {},
     "output_type": "execute_result"
    }
   ],
   "source": [
    "func(10000)"
   ]
  },
  {
   "cell_type": "code",
   "execution_count": 13,
   "metadata": {},
   "outputs": [
    {
     "name": "stdout",
     "output_type": "stream",
     "text": [
      "executing job\n",
      "job done\n",
      "job done\n"
     ]
    }
   ],
   "source": [
    "def trackcalls(fun):\n",
    "    def wrapper(*args, **kwargs):\n",
    "        print('executing',fun.__name__)\n",
    "        return fun(*args, **kwargs)\n",
    "    wrapper.nodebutter = fun\n",
    "    return wrapper\n",
    "\n",
    "@trackcalls\n",
    "def job():\n",
    "    return 'job done'\n",
    "\n",
    "\n",
    "print(job())\n",
    "# this tracks\n",
    "print(job.nodebutter())"
   ]
  },
  {
   "cell_type": "code",
   "execution_count": 14,
   "metadata": {},
   "outputs": [
    {
     "name": "stdout",
     "output_type": "stream",
     "text": [
      "PointClass(x=1.1, y=2.2, outlier=True)\n",
      "PointClass(x=1, y=4, outlier=False)\n"
     ]
    }
   ],
   "source": [
    "from dataclasses import dataclass\n",
    "\n",
    "@dataclass # This replaces the __init__ method!!!\n",
    "class PointClass:\n",
    "    x : float\n",
    "    y : float\n",
    "    outlier : bool = False\n",
    "\n",
    "\n",
    "point1 = PointClass(1.1,2.2,True)\n",
    "point2 = PointClass(1,4)\n",
    "print(point1)\n",
    "print(point2)"
   ]
  },
  {
   "cell_type": "code",
   "execution_count": 15,
   "metadata": {},
   "outputs": [
    {
     "ename": "ImportError",
     "evalue": "cannot import name 'cache' from 'functools' (c:\\Users\\cahya\\anaconda3\\envs\\landau_compphys\\lib\\functools.py)",
     "output_type": "error",
     "traceback": [
      "\u001b[1;31m---------------------------------------------------------------------------\u001b[0m",
      "\u001b[1;31mImportError\u001b[0m                               Traceback (most recent call last)",
      "\u001b[1;32me:\\RADMEP_stuff\\Semester 1 - Jyväskylä\\jyu-learn\\efficient_computing\\lectures\\lecture03.ipynb Cell 15\u001b[0m line \u001b[0;36m1\n\u001b[1;32m----> <a href='vscode-notebook-cell:/e%3A/RADMEP_stuff/Semester%201%20-%20Jyv%C3%A4skyl%C3%A4/jyu-learn/efficient_computing/lectures/lecture03.ipynb#X20sZmlsZQ%3D%3D?line=0'>1</a>\u001b[0m \u001b[39mfrom\u001b[39;00m \u001b[39mfunctools\u001b[39;00m \u001b[39mimport\u001b[39;00m cache\n\u001b[0;32m      <a href='vscode-notebook-cell:/e%3A/RADMEP_stuff/Semester%201%20-%20Jyv%C3%A4skyl%C3%A4/jyu-learn/efficient_computing/lectures/lecture03.ipynb#X20sZmlsZQ%3D%3D?line=1'>2</a>\u001b[0m \u001b[39mimport\u001b[39;00m \u001b[39mprofile\u001b[39;00m\n\u001b[0;32m      <a href='vscode-notebook-cell:/e%3A/RADMEP_stuff/Semester%201%20-%20Jyv%C3%A4skyl%C3%A4/jyu-learn/efficient_computing/lectures/lecture03.ipynb#X20sZmlsZQ%3D%3D?line=4'>5</a>\u001b[0m \u001b[39mclass\u001b[39;00m \u001b[39mFun\u001b[39;00m:\n\u001b[0;32m      <a href='vscode-notebook-cell:/e%3A/RADMEP_stuff/Semester%201%20-%20Jyv%C3%A4skyl%C3%A4/jyu-learn/efficient_computing/lectures/lecture03.ipynb#X20sZmlsZQ%3D%3D?line=5'>6</a>\u001b[0m \n\u001b[0;32m      <a href='vscode-notebook-cell:/e%3A/RADMEP_stuff/Semester%201%20-%20Jyv%C3%A4skyl%C3%A4/jyu-learn/efficient_computing/lectures/lecture03.ipynb#X20sZmlsZQ%3D%3D?line=6'>7</a>\u001b[0m     \u001b[39m# no cache\u001b[39;00m\n",
      "\u001b[1;31mImportError\u001b[0m: cannot import name 'cache' from 'functools' (c:\\Users\\cahya\\anaconda3\\envs\\landau_compphys\\lib\\functools.py)"
     ]
    }
   ],
   "source": [
    "from functools import cache\n",
    "import profile\n",
    "\n",
    "\n",
    "class Fun:\n",
    "\n",
    "    # no cache\n",
    "    def fib0(n):\n",
    "        if n <2:\n",
    "            return n\n",
    "        return Fun.fib0(n-1) + Fun.fib0(n-2)\n",
    "    \n",
    "    # self-defined cache\n",
    "    def fib1(n,*,_cache = {}):\n",
    "        if n in _cache:\n",
    "            return _cache[n]\n",
    "        if n < 2:\n",
    "            return n\n",
    "        \n",
    "        result = Fun.fib1(n-1) + Fun.fib1(n-2)\n",
    "        _cache[n] = result\n",
    "        return result\n",
    "    \n",
    "    # decorator cache\n",
    "    @cache\n",
    "    def fib2(n):\n",
    "        if n<2:\n",
    "            return n\n",
    "        return Fun.fib2(n-1) + Fun.fib2(n-2)\n"
   ]
  },
  {
   "cell_type": "code",
   "execution_count": null,
   "metadata": {},
   "outputs": [
    {
     "data": {
      "text/plain": [
       "9227465"
      ]
     },
     "execution_count": 35,
     "metadata": {},
     "output_type": "execute_result"
    }
   ],
   "source": [
    "\n",
    "Fun.fib0(35)"
   ]
  },
  {
   "cell_type": "code",
   "execution_count": null,
   "metadata": {},
   "outputs": [
    {
     "data": {
      "text/plain": [
       "280571172992510140037611932413038677189525"
      ]
     },
     "execution_count": 48,
     "metadata": {},
     "output_type": "execute_result"
    }
   ],
   "source": [
    "Fun.fib1(200)"
   ]
  },
  {
   "cell_type": "code",
   "execution_count": null,
   "metadata": {},
   "outputs": [
    {
     "data": {
      "text/plain": [
       "280571172992510140037611932413038677189525"
      ]
     },
     "execution_count": 49,
     "metadata": {},
     "output_type": "execute_result"
    }
   ],
   "source": [
    "Fun.fib2(200)"
   ]
  },
  {
   "cell_type": "code",
   "execution_count": null,
   "metadata": {},
   "outputs": [],
   "source": [
    "def f(x):\n",
    "    i = 0\n",
    "    while True:\n",
    "        yield x**2+i\n",
    "        i += 1"
   ]
  },
  {
   "cell_type": "code",
   "execution_count": null,
   "metadata": {},
   "outputs": [],
   "source": [
    "gen = (f(2.0))"
   ]
  },
  {
   "cell_type": "code",
   "execution_count": null,
   "metadata": {},
   "outputs": [
    {
     "name": "stdout",
     "output_type": "stream",
     "text": [
      "5.0\n"
     ]
    }
   ],
   "source": [
    "print(next(gen))"
   ]
  },
  {
   "cell_type": "code",
   "execution_count": 21,
   "metadata": {},
   "outputs": [
    {
     "name": "stdout",
     "output_type": "stream",
     "text": [
      "9223372036854775807\n"
     ]
    }
   ],
   "source": [
    "import numpy as np\n",
    "print(np.int64(2**63-1))"
   ]
  },
  {
   "cell_type": "code",
   "execution_count": null,
   "metadata": {},
   "outputs": [],
   "source": []
  }
 ],
 "metadata": {
  "kernelspec": {
   "display_name": "Python 3",
   "language": "python",
   "name": "python3"
  },
  "language_info": {
   "codemirror_mode": {
    "name": "ipython",
    "version": 3
   },
   "file_extension": ".py",
   "mimetype": "text/x-python",
   "name": "python",
   "nbconvert_exporter": "python",
   "pygments_lexer": "ipython3",
   "version": "3.8.17"
  },
  "orig_nbformat": 4
 },
 "nbformat": 4,
 "nbformat_minor": 2
}
