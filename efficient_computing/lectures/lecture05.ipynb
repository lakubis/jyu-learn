{
 "cells": [
  {
   "cell_type": "markdown",
   "metadata": {},
   "source": [
    "In this case, we are trying the *dunder methods/ magic methods* "
   ]
  },
  {
   "cell_type": "code",
   "execution_count": 3,
   "metadata": {},
   "outputs": [],
   "source": [
    "class Test:\n",
    "    def __init__(self,x):\n",
    "        self.x = x\n",
    "    def __add__(self,other):\n",
    "        return self.x + other.x\n",
    "    \n",
    "a = Test('adlskajfd')\n",
    "b = Test('fakltraut')\n",
    "\n"
   ]
  },
  {
   "cell_type": "code",
   "execution_count": 6,
   "metadata": {},
   "outputs": [
    {
     "name": "stdout",
     "output_type": "stream",
     "text": [
      "__init__: Start writing thesis called \"Harry Potter and Neutron Scattering from Aluminium Alloys\"\n",
      "__enter__: Read articles for my thesis.\n",
      "I'm taking this seriously\n",
      "__exit__: Send thesis \"Harry Potter and Neutron Scattering from Aluminium Alloys\" to my supervisor\n"
     ]
    }
   ],
   "source": [
    "class PhD:\n",
    "    def __init__(self, thesis):\n",
    "        self.thesis = 'Harry Potter and '+thesis\n",
    "        print(f'__init__: Start writing thesis called \"{self.thesis}\"')\n",
    "    def __enter__(self):\n",
    "        print(f'__enter__: Read articles for my thesis.')\n",
    "        return self\n",
    "    def __exit__(self, exception_type, exception_value, traceback):\n",
    "        if exception_type:\n",
    "            print(f'exception type: {exception_type}')\n",
    "            print(f'exception value: {exception_value}')\n",
    "            print(f'traceback: {traceback}')\n",
    "            print(f'__exit__: I wont send an empty thesis to my supervisor')\n",
    "        else:\n",
    "            print(f'__exit__: Send thesis \"{self.thesis}\" to my supervisor')\n",
    "    def serious_work(self):\n",
    "        print(\"I'm taking this seriously\")\n",
    "    def fooling_around(self):\n",
    "        print(\"I'm rather playing video games\")\n",
    "        raise Exception('something wrong with my time management')\n",
    "    \n",
    "with PhD(thesis = 'Neutron Scattering from Aluminium Alloys') as th:\n",
    "    th.serious_work()\n",
    "    #th.fooling_around() # try this to see how an exception is handled"
   ]
  },
  {
   "cell_type": "code",
   "execution_count": 9,
   "metadata": {},
   "outputs": [
    {
     "name": "stdout",
     "output_type": "stream",
     "text": [
      "primed the data_consumer thehungryone\n",
      "manually feeding:\n",
      "thehungryone eats cookie\n",
      "thehungryone eats elephant\n",
      "feeding from source:\n",
      "primed the data_consumer veggie\n",
      "veggie eats beans\n",
      "veggie eats potatoes\n",
      "veggie eats lettuce\n",
      "veggie eats cucumber\n"
     ]
    }
   ],
   "source": [
    "import numpy as np\n",
    "\n",
    "def data_consumer(id):\n",
    "    # A coroutine that eats data sent to it\n",
    "    print('primed the data_consumer',id)\n",
    "    while True:\n",
    "        data = yield\n",
    "        print(id,'eats', data)\n",
    "\n",
    "def data_source(target):\n",
    "    # An ordinary function that produces data and send is to target\n",
    "    for data in ['beans','potatoes','lettuce','cucumber']:\n",
    "        target.send(data)\n",
    "\n",
    "eater = data_consumer('thehungryone')\n",
    "eater.send(None) # prime the coroutine, now it's ready to receive data\n",
    "print('manually feeding:')\n",
    "eater.send('cookie')\n",
    "eater.send('elephant')\n",
    "eater.close() # stop it\n",
    "print('feeding from source:')\n",
    "veg = data_consumer('veggie')\n",
    "next(veg) # another way to prime a coroutine, same as veg.send(None)\n",
    "data_source(veg)\n",
    "veg.close() # stop it"
   ]
  },
  {
   "cell_type": "code",
   "execution_count": null,
   "metadata": {},
   "outputs": [],
   "source": []
  }
 ],
 "metadata": {
  "kernelspec": {
   "display_name": "Python 3",
   "language": "python",
   "name": "python3"
  },
  "language_info": {
   "codemirror_mode": {
    "name": "ipython",
    "version": 3
   },
   "file_extension": ".py",
   "mimetype": "text/x-python",
   "name": "python",
   "nbconvert_exporter": "python",
   "pygments_lexer": "ipython3",
   "version": "3.10.13"
  },
  "orig_nbformat": 4
 },
 "nbformat": 4,
 "nbformat_minor": 2
}
