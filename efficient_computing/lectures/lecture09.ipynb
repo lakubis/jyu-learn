{
 "cells": [
  {
   "cell_type": "code",
   "execution_count": 7,
   "metadata": {},
   "outputs": [
    {
     "name": "stdout",
     "output_type": "stream",
     "text": [
      "[5. 1. 1. 1. 5.]\n",
      "[5. 5. 5. 5. 5.]\n"
     ]
    }
   ],
   "source": [
    "import numpy as np\n",
    "\n",
    "x = np.array([5,1,1,1,5],dtype=np.float64)\n",
    "\n",
    "print(x)\n",
    "\n",
    "mid = x[1:-1]\n",
    "left = x[:3]\n",
    "right = x[2:]\n",
    "# heat conduction \n",
    "for i in range(100):\n",
    "   mid[:] = (left+mid+right)/3\n",
    "\n",
    "print(x)\n",
    "# It was stuck because the data type was integer"
   ]
  }
 ],
 "metadata": {
  "kernelspec": {
   "display_name": "Python 3",
   "language": "python",
   "name": "python3"
  },
  "language_info": {
   "codemirror_mode": {
    "name": "ipython",
    "version": 3
   },
   "file_extension": ".py",
   "mimetype": "text/x-python",
   "name": "python",
   "nbconvert_exporter": "python",
   "pygments_lexer": "ipython3",
   "version": "3.10.13"
  }
 },
 "nbformat": 4,
 "nbformat_minor": 2
}
