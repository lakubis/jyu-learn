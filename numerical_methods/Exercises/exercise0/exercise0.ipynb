{
 "cells": [
  {
   "cell_type": "markdown",
   "metadata": {},
   "source": [
    "This is the code for E0.1"
   ]
  },
  {
   "cell_type": "code",
   "execution_count": 6,
   "metadata": {},
   "outputs": [
    {
     "name": "stdout",
     "output_type": "stream",
     "text": [
      "100.00000000000001\n",
      "200.0\n",
      "0.0\n"
     ]
    },
    {
     "data": {
      "text/plain": [
       "'\\nExplanation:\\nAnalytically, we should have gotten 3e-14 instead of 0.0.\\n\\nNumerically, numpy process the numbers one-by-one, in the first step, we have 100+1e-14\\n'"
      ]
     },
     "execution_count": 6,
     "metadata": {},
     "output_type": "execute_result"
    }
   ],
   "source": [
    "import numpy as np\n",
    "\n",
    "# Here, we are going to see how numpy processes the values by evaluating arr1, arr2, and arr3.\n",
    "\n",
    "arr1 = np.array([100, 1e-14])\n",
    "arr2 = np.array([100, 1e-14, 100])\n",
    "arr3 = np.array([100, 1e-14, 100, 1e-14, 100, 1e-14, -300])\n",
    "print(np.sum(arr1)) # Output = 100.00000000000001\n",
    "print(np.sum(arr2)) # Output = 200.0\n",
    "print(np.sum(arr3)) # Output = 0.0\n",
    "\n",
    "'''\n",
    "Explanation:\n",
    "Analytically, we should have gotten 3e-14 instead of 0.0.\n",
    "\n",
    "Numerically, numpy process the numbers one-by-one. As we can see, the sum of arr1 is 100.00000000000001. It already exhausted the precision of the float.\n",
    "\n",
    "As a result, when we add another 100 to the float, it loses information on the 1e-14. This is why the sum of arr2 is 200.0\n",
    "\n",
    "This loss of information repeats, and we ended up with 300.0 before we finally substract 300.0, hence the sum of arr3 is 0.0\n",
    "'''"
   ]
  },
  {
   "cell_type": "markdown",
   "metadata": {},
   "source": [
    "This is the code for E0.2"
   ]
  },
  {
   "cell_type": "code",
   "execution_count": 48,
   "metadata": {},
   "outputs": [
    {
     "name": "stdout",
     "output_type": "stream",
     "text": [
      "1.0000050000069649e-05\n",
      "1.0000050000166667e-05\n",
      "1.0000050000166668e-05\n"
     ]
    },
    {
     "data": {
      "text/plain": [
       "'\\nThe result from the Taylor series is close to the value from the math library with just the third order.\\n'"
      ]
     },
     "execution_count": 48,
     "metadata": {},
     "output_type": "execute_result"
    }
   ],
   "source": [
    "# First, we are going to test the math library\n",
    "import math\n",
    "x = 1e-5\n",
    "\n",
    "# Calculate math.exp(x) - 1\n",
    "print(math.exp(x) - 1) # Output: 1.0000050000069649e-05\n",
    "\n",
    "# Calculate math.expm1(x)\n",
    "print(math.expm1(x)) # Output: 1.0000050000166667e-05\n",
    "\n",
    "'''\n",
    "The value that we get using math.exp(x)-1 is different from math.expm1(x) for small value of x. It is probably because we substract two numbers of similar magnitude, and hence created a huge error in the substraction.\n",
    "'''\n",
    "\n",
    "# Create a function to calculate exp(x) - 1 using the taylor series\n",
    "def expMinusOne(x,n):\n",
    "    \"\"\" A function to calculate exp(x) - 1 using Taylor series of certain order n\n",
    "\n",
    "    Args:\n",
    "        x (float): The value of x that we want to calculate\n",
    "        n (int): The order of the Taylor series\n",
    "\n",
    "    Raises:\n",
    "        Exception: n should be integer and should be more or equal to 1\n",
    "\n",
    "    Returns:\n",
    "        float: The result of the Taylor series\n",
    "    \"\"\"\n",
    "\n",
    "\n",
    "    result = 0.0 # To store the result of the computation\n",
    "    if n < 1 or type(n)!=int:\n",
    "        raise Exception('n should be integer and >=1')\n",
    "    \n",
    "    for i in range(1,n+1):\n",
    "        result += (x**i)/math.factorial(i)\n",
    "\n",
    "    return result\n",
    "\n",
    "# Calculate expMinusOne\n",
    "print(expMinusOne(x,3)) # Output: 1.0000050000166668e-05\n",
    "\n",
    "'''\n",
    "The result from the Taylor series is close to the value from the math library with just the third order.\n",
    "'''\n",
    "\n",
    "\n"
   ]
  },
  {
   "cell_type": "markdown",
   "metadata": {},
   "source": [
    "This is the code for E0.3"
   ]
  },
  {
   "cell_type": "code",
   "execution_count": 56,
   "metadata": {},
   "outputs": [
    {
     "name": "stdout",
     "output_type": "stream",
     "text": [
      "-1.6830939683131864e-14\n",
      "5.685500963055529e-11\n",
      "3.666400516522117e-11\n",
      "2.5243548967072378e-26\n"
     ]
    }
   ],
   "source": [
    "import numpy as np\n",
    "import math\n",
    "\n",
    "# Create the short array\n",
    "short_arr = [100, 1e-13, 100, 1e-13, 100, 1e-13, -300, 100, 1e-13, 100, 1e-13,-200,-5e-13]\n",
    "\n",
    "# Create the long array, 1000 times longer than the short_arr\n",
    "long_arr = 1000*short_arr\n",
    "\n",
    "'''\n",
    "Analytically, the sum of short_arr should be 0, therefore the sum of long_arr should also be 0\n",
    "'''\n",
    "\n",
    "# Create kahan_sum()\n",
    "def kahan_sum(arr):\n",
    "    \"\"\" Function to do Kahan summation, in order to reduce summation error\n",
    "\n",
    "    Args:\n",
    "        arr (list): The list of numbers that we want to sum\n",
    "\n",
    "    Returns:\n",
    "        float: The compensated sum\n",
    "    \"\"\"\n",
    "    sum = 0.0 # To store the summing result\n",
    "    c = 0.0 # To store the compensation\n",
    "    for i in range(len(arr)):\n",
    "        y = arr[i] - c\n",
    "        t = sum + y\n",
    "        c = (t-sum) - y\n",
    "        sum = t\n",
    "\n",
    "    return sum\n",
    "\n",
    "# self-defined Kahan sum\n",
    "print(kahan_sum(long_arr)) # Output: -1.6830939683131864e-14\n",
    "\n",
    "# Python sum\n",
    "print(sum(long_arr)) # Output: 5.685500963055529e-11\n",
    "\n",
    "# Numpy sum\n",
    "print(np.sum(long_arr)) # Output: 3.666400516522117e-11\n",
    "\n",
    "# math sum\n",
    "print(math.fsum(long_arr)) # Output: 2.5243548967072378e-26, this is the closest one to 0\n",
    "\n",
    "'''\n",
    "Out of all the summing function, the math.fsum() function gives the least error. The self-defined Kahan sum gives the second lowest error. It is because of the compensation during the summation\n",
    "'''\n",
    "\n"
   ]
  }
 ],
 "metadata": {
  "kernelspec": {
   "display_name": "Python 3",
   "language": "python",
   "name": "python3"
  },
  "language_info": {
   "codemirror_mode": {
    "name": "ipython",
    "version": 3
   },
   "file_extension": ".py",
   "mimetype": "text/x-python",
   "name": "python",
   "nbconvert_exporter": "python",
   "pygments_lexer": "ipython3",
   "version": "3.8.17"
  },
  "orig_nbformat": 4
 },
 "nbformat": 4,
 "nbformat_minor": 2
}
