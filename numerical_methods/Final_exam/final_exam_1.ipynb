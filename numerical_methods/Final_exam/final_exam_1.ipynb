{
 "cells": [
  {
   "cell_type": "code",
   "execution_count": null,
   "metadata": {},
   "outputs": [],
   "source": [
    "# Final exam problem 1\n",
    "# Author: Felix Cahyadi\n",
    "# Date: 03.11.2023"
   ]
  }
 ],
 "metadata": {
  "language_info": {
   "name": "python"
  }
 },
 "nbformat": 4,
 "nbformat_minor": 2
}
