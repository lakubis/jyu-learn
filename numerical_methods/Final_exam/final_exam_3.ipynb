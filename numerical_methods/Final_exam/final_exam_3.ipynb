{
 "cells": [
  {
   "cell_type": "code",
   "execution_count": 13,
   "metadata": {},
   "outputs": [
    {
     "name": "stdout",
     "output_type": "stream",
     "text": [
      "The price for apples is EUR 0.69 per kg\n",
      "The price for juice is EUR 0.19 per liter\n",
      "The price for peanuts is EUR 0.01 per gram\n",
      "The total price for Amy's groceries is EUR 6.06\n"
     ]
    }
   ],
   "source": [
    "# Final exam problem 3\n",
    "# Author: Felix Cahyadi\n",
    "# Date: 03.11.2023\n",
    "\n",
    "# Import libraries\n",
    "import numpy as np\n",
    "import matplotlib.pyplot as plt\n",
    "from scipy.optimize import fsolve, newton\n",
    "from scipy.integrate import solve_ivp, solve_bvp, simpson\n",
    "from scipy.fft import fft\n",
    "from numpy.linalg import norm\n",
    "import fysa1130\n",
    "\n",
    "# This problem is a linear equations problem in form of Ax = b\n",
    "# A contains the quantity of the items, x contains the price for each items, and b contains the total prices\n",
    "\n",
    "# Create matrix A\n",
    "A = np.array([[1.8, 1, 400], [0.8, 2, 400], [1.5, 3, 150]])\n",
    "\n",
    "# Create matrix b\n",
    "b = np.array([5.27, 4.77, 3.04])\n",
    "\n",
    "# Solve for x using np.linalg.solve\n",
    "x = np.linalg.solve(A,b)\n",
    "\n",
    "# Amy's groceries\n",
    "Amy = np.array([1,3,500])\n",
    "\n",
    "# print the prices\n",
    "print(f\"The price for apples is EUR {x[0]:.2f} per kg\")\n",
    "print(f\"The price for juice is EUR {x[1]:.2f} per liter\")\n",
    "print(f\"The price for peanuts is EUR {x[2]:.2f} per gram\")\n",
    "\n",
    "# Print the solution\n",
    "print(f\"The total price for Amy's groceries is EUR {np.dot(Amy, x):.2f}\")\n",
    "# print(np.dot(np.array([1.5,3,150]),x))"
   ]
  },
  {
   "cell_type": "code",
   "execution_count": null,
   "metadata": {},
   "outputs": [],
   "source": [
    "# Plotting stuff\n",
    "\n",
    "#fig, ax = plt.subplots(figsize = (9,5))\n",
    "#ax.plot()\n",
    "#ax.grid(True)\n",
    "#ax.set_xlabel(\"\")\n",
    "#ax.set_ylabel(\"\")\n",
    "#ax.set_xlim([])\n",
    "#ax.set_ylim([])\n",
    "#ax.legend()\n",
    "\n",
    "#plt.show()"
   ]
  },
  {
   "cell_type": "code",
   "execution_count": null,
   "metadata": {},
   "outputs": [],
   "source": [
    "# 2D plotting\n",
    "\n",
    "#X,Y = np.meshgrid()\n",
    "#Z = \n",
    "\n",
    "#fig, ax = plt.subplots(figsize = (8,8))\n",
    "#ax.contour(X,Y, Z, levels = [], colors = [''])\n",
    "#ax.grid(True)\n",
    "#ax.set_xlabel(\"\")\n",
    "#ax.set_ylabel(\"\")\n",
    "#ax.set_xlim([])\n",
    "#ax.set_ylim([])\n",
    "#ax.legend()\n",
    "\n",
    "#plt.show()\n",
    "\n"
   ]
  }
 ],
 "metadata": {
  "kernelspec": {
   "display_name": "Python 3",
   "language": "python",
   "name": "python3"
  },
  "language_info": {
   "codemirror_mode": {
    "name": "ipython",
    "version": 3
   },
   "file_extension": ".py",
   "mimetype": "text/x-python",
   "name": "python",
   "nbconvert_exporter": "python",
   "pygments_lexer": "ipython3",
   "version": "3.10.13"
  }
 },
 "nbformat": 4,
 "nbformat_minor": 2
}
