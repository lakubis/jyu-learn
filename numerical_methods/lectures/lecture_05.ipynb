{
 "cells": [
  {
   "cell_type": "markdown",
   "metadata": {},
   "source": [
    "We know that the density of electron can be expressed with the following equation\n",
    "$$n = N_c e^{-(E_c-E_F)/kT}$$\n",
    "\n",
    "let's say that $n = n_i$, and the Fermi energy in that case is $E_F = E_i$, substituting it to the above equation\n",
    "$$n_i = N_c e^{-(E_c - E_i)/kT}$$\n",
    "\n",
    "$$\\ln\\frac{n_i}{N_c} = \\frac{-(E_c - E_i)}{kT}$$\n",
    "\n",
    "$$kT\\ln\\frac{N_c}{n_i} = E_c - E_i$$\n",
    "\n",
    "$$E_i = E_c - kT\\ln\\frac{N_c}{n_i}$$\n",
    "\n",
    "From there, we can also use the relation $\\ln\\frac{A}{B} = \\ln A - \\ln B$, hence\n",
    "\n",
    "$$E_c + kT\\ln n_i - kT\\ln N_c$$\n"
   ]
  },
  {
   "cell_type": "markdown",
   "metadata": {},
   "source": [
    "Fixed-point iteration"
   ]
  },
  {
   "cell_type": "code",
   "execution_count": 26,
   "metadata": {},
   "outputs": [],
   "source": [
    "def fixed_point(func, xi, N = 100, tol = 1e-8):\n",
    "    \n",
    "    root = func(xi)\n",
    "\n",
    "    count = 0\n",
    "    while abs(root)>tol or count==N:\n",
    "        prev = root\n",
    "        root = func(prev)\n",
    "        count+=1\n",
    "\n",
    "    if abs(root)>tol:\n",
    "        print('didn\\'t converge')\n",
    "\n",
    "    return prev, root"
   ]
  },
  {
   "cell_type": "code",
   "execution_count": 29,
   "metadata": {},
   "outputs": [],
   "source": [
    "f = lambda x: 1-x**2\n",
    "g = lambda x: x**2-4"
   ]
  },
  {
   "cell_type": "code",
   "execution_count": 28,
   "metadata": {},
   "outputs": [
    {
     "data": {
      "text/plain": [
       "(0.9999999999986692, 2.6616486792363503e-12)"
      ]
     },
     "execution_count": 28,
     "metadata": {},
     "output_type": "execute_result"
    }
   ],
   "source": [
    "fixed_point(f, .5, N = 200)"
   ]
  },
  {
   "cell_type": "code",
   "execution_count": 32,
   "metadata": {},
   "outputs": [
    {
     "ename": "OverflowError",
     "evalue": "(34, 'Result too large')",
     "output_type": "error",
     "traceback": [
      "\u001b[1;31m---------------------------------------------------------------------------\u001b[0m",
      "\u001b[1;31mOverflowError\u001b[0m                             Traceback (most recent call last)",
      "\u001b[1;32me:\\RADMEP_stuff\\Semester 1 - Jyväskylä\\jyu-learn\\numerical_methods\\lectures\\lecture_05.ipynb Cell 6\u001b[0m line \u001b[0;36m1\n\u001b[1;32m----> <a href='vscode-notebook-cell:/e%3A/RADMEP_stuff/Semester%201%20-%20Jyv%C3%A4skyl%C3%A4/jyu-learn/numerical_methods/lectures/lecture_05.ipynb#W5sZmlsZQ%3D%3D?line=0'>1</a>\u001b[0m fixed_point(g, \u001b[39m-\u001b[39;49m\u001b[39m0.5\u001b[39;49m, N \u001b[39m=\u001b[39;49m \u001b[39m200\u001b[39;49m)\n",
      "\u001b[1;32me:\\RADMEP_stuff\\Semester 1 - Jyväskylä\\jyu-learn\\numerical_methods\\lectures\\lecture_05.ipynb Cell 6\u001b[0m line \u001b[0;36m8\n\u001b[0;32m      <a href='vscode-notebook-cell:/e%3A/RADMEP_stuff/Semester%201%20-%20Jyv%C3%A4skyl%C3%A4/jyu-learn/numerical_methods/lectures/lecture_05.ipynb#W5sZmlsZQ%3D%3D?line=5'>6</a>\u001b[0m \u001b[39mwhile\u001b[39;00m \u001b[39mabs\u001b[39m(root)\u001b[39m>\u001b[39mtol \u001b[39mor\u001b[39;00m count\u001b[39m==\u001b[39mN:\n\u001b[0;32m      <a href='vscode-notebook-cell:/e%3A/RADMEP_stuff/Semester%201%20-%20Jyv%C3%A4skyl%C3%A4/jyu-learn/numerical_methods/lectures/lecture_05.ipynb#W5sZmlsZQ%3D%3D?line=6'>7</a>\u001b[0m     prev \u001b[39m=\u001b[39m root\n\u001b[1;32m----> <a href='vscode-notebook-cell:/e%3A/RADMEP_stuff/Semester%201%20-%20Jyv%C3%A4skyl%C3%A4/jyu-learn/numerical_methods/lectures/lecture_05.ipynb#W5sZmlsZQ%3D%3D?line=7'>8</a>\u001b[0m     root \u001b[39m=\u001b[39m func(prev)\n\u001b[0;32m      <a href='vscode-notebook-cell:/e%3A/RADMEP_stuff/Semester%201%20-%20Jyv%C3%A4skyl%C3%A4/jyu-learn/numerical_methods/lectures/lecture_05.ipynb#W5sZmlsZQ%3D%3D?line=8'>9</a>\u001b[0m     count\u001b[39m+\u001b[39m\u001b[39m=\u001b[39m\u001b[39m1\u001b[39m\n\u001b[0;32m     <a href='vscode-notebook-cell:/e%3A/RADMEP_stuff/Semester%201%20-%20Jyv%C3%A4skyl%C3%A4/jyu-learn/numerical_methods/lectures/lecture_05.ipynb#W5sZmlsZQ%3D%3D?line=10'>11</a>\u001b[0m \u001b[39mif\u001b[39;00m \u001b[39mabs\u001b[39m(root)\u001b[39m>\u001b[39mtol:\n",
      "\u001b[1;32me:\\RADMEP_stuff\\Semester 1 - Jyväskylä\\jyu-learn\\numerical_methods\\lectures\\lecture_05.ipynb Cell 6\u001b[0m line \u001b[0;36m2\n\u001b[0;32m      <a href='vscode-notebook-cell:/e%3A/RADMEP_stuff/Semester%201%20-%20Jyv%C3%A4skyl%C3%A4/jyu-learn/numerical_methods/lectures/lecture_05.ipynb#W5sZmlsZQ%3D%3D?line=0'>1</a>\u001b[0m f \u001b[39m=\u001b[39m \u001b[39mlambda\u001b[39;00m x: \u001b[39m1\u001b[39m\u001b[39m-\u001b[39mx\u001b[39m*\u001b[39m\u001b[39m*\u001b[39m\u001b[39m2\u001b[39m\n\u001b[1;32m----> <a href='vscode-notebook-cell:/e%3A/RADMEP_stuff/Semester%201%20-%20Jyv%C3%A4skyl%C3%A4/jyu-learn/numerical_methods/lectures/lecture_05.ipynb#W5sZmlsZQ%3D%3D?line=1'>2</a>\u001b[0m g \u001b[39m=\u001b[39m \u001b[39mlambda\u001b[39;00m x: x\u001b[39m*\u001b[39;49m\u001b[39m*\u001b[39;49m\u001b[39m2\u001b[39;49m\u001b[39m-\u001b[39m\u001b[39m4\u001b[39m\n",
      "\u001b[1;31mOverflowError\u001b[0m: (34, 'Result too large')"
     ]
    }
   ],
   "source": [
    "fixed_point(g, -0.5, N = 200)"
   ]
  },
  {
   "cell_type": "code",
   "execution_count": 33,
   "metadata": {},
   "outputs": [],
   "source": [
    "import sympy as sp"
   ]
  },
  {
   "cell_type": "code",
   "execution_count": 36,
   "metadata": {},
   "outputs": [
    {
     "data": {
      "text/latex": [
       "$\\displaystyle x$"
      ],
      "text/plain": [
       "x"
      ]
     },
     "execution_count": 36,
     "metadata": {},
     "output_type": "execute_result"
    }
   ],
   "source": [
    "x = sp.var('x')\n"
   ]
  },
  {
   "cell_type": "code",
   "execution_count": 37,
   "metadata": {},
   "outputs": [
    {
     "data": {
      "text/latex": [
       "$\\displaystyle \\left(0.197530864197531 x^{3} + \\frac{2 x}{3}\\right) \\left(\\sin{\\left(\\frac{4 \\pi x}{3} \\right)} + 2\\right)$"
      ],
      "text/plain": [
       "(0.197530864197531*x**3 + 2*x/3)*(sin(4*pi*x/3) + 2)"
      ]
     },
     "execution_count": 37,
     "metadata": {},
     "output_type": "execute_result"
    }
   ],
   "source": [
    "diff = (sp.sin((4*sp.pi*x)/3) +2) *(((2/3)**4)*x**3 + (2*x/3))\n",
    "diff"
   ]
  },
  {
   "cell_type": "code",
   "execution_count": 39,
   "metadata": {},
   "outputs": [
    {
     "data": {
      "text/latex": [
       "$\\displaystyle - \\frac{5.5}{\\pi} + \\frac{1.5}{\\pi^{3}} + 14.0$"
      ],
      "text/plain": [
       "-5.5/pi + 1.5/pi**3 + 14.0"
      ]
     },
     "execution_count": 39,
     "metadata": {},
     "output_type": "execute_result"
    }
   ],
   "source": [
    "sp.integrate(diff,(x,0,3))"
   ]
  },
  {
   "cell_type": "code",
   "execution_count": null,
   "metadata": {},
   "outputs": [],
   "source": []
  }
 ],
 "metadata": {
  "kernelspec": {
   "display_name": "Python 3",
   "language": "python",
   "name": "python3"
  },
  "language_info": {
   "codemirror_mode": {
    "name": "ipython",
    "version": 3
   },
   "file_extension": ".py",
   "mimetype": "text/x-python",
   "name": "python",
   "nbconvert_exporter": "python",
   "pygments_lexer": "ipython3",
   "version": "3.10.13"
  },
  "orig_nbformat": 4
 },
 "nbformat": 4,
 "nbformat_minor": 2
}
