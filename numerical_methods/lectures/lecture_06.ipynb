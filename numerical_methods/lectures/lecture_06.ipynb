{
 "cells": [
  {
   "cell_type": "code",
   "execution_count": 2,
   "metadata": {},
   "outputs": [],
   "source": [
    "# Import libraries\n",
    "import numpy as np\n",
    "from scipy.optimize import fsolve"
   ]
  },
  {
   "cell_type": "markdown",
   "metadata": {},
   "source": [
    "# Example 5.1"
   ]
  },
  {
   "cell_type": "code",
   "execution_count": null,
   "metadata": {},
   "outputs": [],
   "source": []
  },
  {
   "cell_type": "markdown",
   "metadata": {},
   "source": [
    "# Example 5.2"
   ]
  },
  {
   "cell_type": "code",
   "execution_count": 3,
   "metadata": {},
   "outputs": [],
   "source": [
    "def func(x):\n",
    "    result = np.zeros_like(x)\n",
    "    result[0] = np.tan(x[0]) - x[1] - 1\n",
    "    result[1] = np.cos(x[0]) - 3*np.sin(x[1])\n",
    "    return result"
   ]
  },
  {
   "cell_type": "code",
   "execution_count": 27,
   "metadata": {},
   "outputs": [],
   "source": [
    "def solve_manual(func, x0, tol = 1e-5, max_iter = 100, h = 1e-3):\n",
    "    \"\"\"N-dimensional Newton's method\n",
    "\n",
    "    Args:\n",
    "        func (function): function that we want to solve\n",
    "        x0 (NDarray): initial guess\n",
    "        tol (float, optional): The tolerance, used to determine convergence. Defaults to 1e-5.\n",
    "        max_iter (int, optional): Maximum iteration limit. Defaults to 100.\n",
    "        h (_type_, optional): step size. Defaults to 1e-3.\n",
    "\n",
    "    Returns:\n",
    "        NDarray: final solution\n",
    "    \"\"\"\n",
    "\n",
    "\n",
    "    dim = len(x0)\n",
    "    prev_x = x0\n",
    "    counter = 0\n",
    "    while counter < max_iter:\n",
    "\n",
    "        #Create the Jacobian function\n",
    "        J = np.zeros((dim,dim))\n",
    "        for i in range(dim):\n",
    "            h_arr = np.zeros(dim)\n",
    "            h_arr[i] = h\n",
    "            x_plus = prev_x+h_arr\n",
    "            x_min = prev_x-h_arr\n",
    "            J[:,i] = (func(x_plus) - func(x_min))/(2*h)\n",
    "        \n",
    "        delta_x = np.linalg.solve(J,-func(prev_x))\n",
    "        new_x = prev_x+delta_x\n",
    "        if np.abs(np.linalg.norm(new_x-prev_x)) < tol:\n",
    "            return new_x, counter\n",
    "        prev_x = new_x\n",
    "        counter +=1\n",
    "    \n",
    "    return new_x, counter\n",
    "            \n"
   ]
  },
  {
   "cell_type": "code",
   "execution_count": 12,
   "metadata": {},
   "outputs": [
    {
     "data": {
      "text/plain": [
       "array([7.1647779 , 0.21359471])"
      ]
     },
     "execution_count": 12,
     "metadata": {},
     "output_type": "execute_result"
    }
   ],
   "source": [
    "init_x = np.array([7,.2])\n",
    "fsolve(func, init_x)"
   ]
  },
  {
   "cell_type": "code",
   "execution_count": 28,
   "metadata": {},
   "outputs": [
    {
     "data": {
      "text/plain": [
       "(array([7.1647779 , 0.21359471]), 3)"
      ]
     },
     "execution_count": 28,
     "metadata": {},
     "output_type": "execute_result"
    }
   ],
   "source": [
    "solve_manual(func, init_x)"
   ]
  },
  {
   "cell_type": "code",
   "execution_count": null,
   "metadata": {},
   "outputs": [],
   "source": []
  }
 ],
 "metadata": {
  "kernelspec": {
   "display_name": "Python 3",
   "language": "python",
   "name": "python3"
  },
  "language_info": {
   "codemirror_mode": {
    "name": "ipython",
    "version": 3
   },
   "file_extension": ".py",
   "mimetype": "text/x-python",
   "name": "python",
   "nbconvert_exporter": "python",
   "pygments_lexer": "ipython3",
   "version": "3.10.13"
  },
  "orig_nbformat": 4
 },
 "nbformat": 4,
 "nbformat_minor": 2
}
